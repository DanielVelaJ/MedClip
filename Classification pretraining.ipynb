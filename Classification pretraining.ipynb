{
 "cells": [
  {
   "cell_type": "code",
   "execution_count": 17,
   "id": "f77f100d-9746-4256-94e1-48a9431f3824",
   "metadata": {},
   "outputs": [
    {
     "name": "stdout",
     "output_type": "stream",
     "text": [
      "[Errno 2] No such file or directory: 'src'\n",
      "/home/jupyter/MedClip/src\n"
     ]
    }
   ],
   "source": [
    "cd src/"
   ]
  },
  {
   "cell_type": "code",
   "execution_count": null,
   "id": "8682c0b4-39b0-4bf3-99b9-c5bfbd47c006",
   "metadata": {},
   "outputs": [],
   "source": [
    "%load_ext tensorboard"
   ]
  },
  {
   "cell_type": "code",
   "execution_count": 20,
   "id": "e7248881-e418-4aab-abc1-9d97287f80af",
   "metadata": {},
   "outputs": [],
   "source": [
    "import tensorflow as tf\n",
    "import matplotlib.pyplot as plt\n",
    "import numpy as np\n",
    "import pandas as pd\n",
    "from preprocess import pipelines\n",
    "import datetime"
   ]
  },
  {
   "cell_type": "code",
   "execution_count": 29,
   "id": "71f5d408-bc71-4157-818c-e30998bf3ab4",
   "metadata": {},
   "outputs": [
    {
     "name": "stdout",
     "output_type": "stream",
     "text": [
      "making input pipeline\n",
      "Labeling pretraining initialized with model: \n",
      "\n",
      "Model: \"labeling_resnet50\"\n",
      "_________________________________________________________________\n",
      " Layer (type)                Output Shape              Param #   \n",
      "=================================================================\n",
      " input (InputLayer)          [(None, 299, 299, 3)]     0         \n",
      "                                                                 \n",
      " tf.__operators__.getitem_10  (None, 299, 299, 3)      0         \n",
      "  (SlicingOpLambda)                                              \n",
      "                                                                 \n",
      " tf.nn.bias_add_10 (TFOpLamb  (None, 299, 299, 3)      0         \n",
      " da)                                                             \n",
      "                                                                 \n",
      " resnet50 (Functional)       (None, 10, 10, 2048)      23587712  \n",
      "                                                                 \n",
      " flatten_10 (Flatten)        (None, 204800)            0         \n",
      "                                                                 \n",
      " encoding_layer (Dense)      (None, 128)               26214528  \n",
      "                                                                 \n",
      " classification_layer (Dense  (None, 41)               5289      \n",
      " )                                                               \n",
      "                                                                 \n",
      "=================================================================\n",
      "Total params: 49,807,529\n",
      "Trainable params: 26,219,817\n",
      "Non-trainable params: 23,587,712\n",
      "_________________________________________________________________\n",
      "None\n",
      "Fitting the model for 5 epochs on a debug fraction of the dataset\n",
      "Epoch 1/5\n",
      "2/2 [==============================] - ETA: 0s - loss: 15.4015 - accuracy: 0.4531 - auc: 0.7158 - precision: 0.4909 - recall: 0.6560INFO:tensorflow:Assets written to: ../models/image_encoders/labeling/20220711-204213/assets\n",
      "2/2 [==============================] - 37s 29s/step - loss: 15.4015 - accuracy: 0.4531 - auc: 0.7158 - precision: 0.4909 - recall: 0.6560 - val_loss: 22.9968 - val_accuracy: 0.8438 - val_auc: 0.7680 - val_precision: 0.7335 - val_recall: 0.6451\n",
      "Epoch 2/5\n",
      "2/2 [==============================] - ETA: 0s - loss: 17.7584 - accuracy: 0.8672 - auc: 0.8096 - precision: 0.7672 - recall: 0.7227INFO:tensorflow:Assets written to: ../models/image_encoders/labeling/20220711-204213/assets\n",
      "2/2 [==============================] - 35s 34s/step - loss: 17.7584 - accuracy: 0.8672 - auc: 0.8096 - precision: 0.7672 - recall: 0.7227 - val_loss: 20.2761 - val_accuracy: 0.0000e+00 - val_auc: 0.7655 - val_precision: 0.7319 - val_recall: 0.6445\n",
      "Epoch 3/5\n",
      "2/2 [==============================] - ETA: 0s - loss: 15.9431 - accuracy: 0.4492 - auc: 0.8145 - precision: 0.7667 - recall: 0.7355INFO:tensorflow:Assets written to: ../models/image_encoders/labeling/20220711-204213/assets\n",
      "2/2 [==============================] - 33s 32s/step - loss: 15.9431 - accuracy: 0.4492 - auc: 0.8145 - precision: 0.7667 - recall: 0.7355 - val_loss: 18.0872 - val_accuracy: 0.8438 - val_auc: 0.8244 - val_precision: 0.7628 - val_recall: 0.7573\n",
      "Epoch 4/5\n",
      "2/2 [==============================] - ETA: 0s - loss: 10.9536 - accuracy: 0.8789 - auc: 0.8675 - precision: 0.8150 - recall: 0.8139INFO:tensorflow:Assets written to: ../models/image_encoders/labeling/20220711-204213/assets\n",
      "2/2 [==============================] - 33s 31s/step - loss: 10.9536 - accuracy: 0.8789 - auc: 0.8675 - precision: 0.8150 - recall: 0.8139 - val_loss: 14.2596 - val_accuracy: 0.8438 - val_auc: 0.8247 - val_precision: 0.8377 - val_recall: 0.7059\n",
      "Epoch 5/5\n",
      "2/2 [==============================] - 5s 3s/step - loss: 8.0771 - accuracy: 0.8672 - auc: 0.8853 - precision: 0.9047 - recall: 0.7949 - val_loss: 14.4278 - val_accuracy: 0.8203 - val_auc: 0.8275 - val_precision: 0.7940 - val_recall: 0.7333\n"
     ]
    }
   ],
   "source": [
    "\n",
    "#High level args\n",
    "data_pipeline=pipelines.make_pipeline('../data/intermediate/inter_chexpert.csv',downscale=False)\n",
    "embedding_size = 128\n",
    "backbone='resnet50'\n",
    "train_backbone= False\n",
    "log_dir='../model_logs/pretraining/labeling/'\n",
    "save_model_path='../models/image_encoders/labeling/'\n",
    "debug=True\n",
    "\n",
    "# Inside function\n",
    "backbonestr=backbone\n",
    "date_str=datetime.datetime.now().strftime(\"%Y%m%d-%H%M%S\")\n",
    "log_dir=log_dir+date_str\n",
    "save_model_path=save_model_path+ date_str\n",
    "\n",
    "# Load data\n",
    "train_data=data_pipeline['labeling']['train'].batch(128)\n",
    "val_data=data_pipeline['labeling']['val'].batch(128)\n",
    "\n",
    "# Make the model\n",
    "input_shape = train_data.element_spec[0].shape.as_list()[1:]\n",
    "n_classes = int(train_data.element_spec[1].shape.as_list()[1])\n",
    "inputs=tf.keras.Input(shape=input_shape, name='input')\n",
    "if backbone=='resnet50':\n",
    "    backbone= tf.keras.applications.resnet50.ResNet50(\n",
    "        include_top=False,\n",
    "        weights='imagenet',\n",
    "        input_shape=input_shape,\n",
    "        pooling=None,\n",
    "    )\n",
    "if (train_backbone==False):\n",
    "    for layer in backbone.layers:\n",
    "        layer.trainable=False\n",
    "x = tf.keras.applications.resnet50.preprocess_input(inputs) # preprocess data\n",
    "x = backbone(x)\n",
    "x = tf.keras.layers.Flatten()(x)\n",
    "x = tf.keras.layers.Dense(embedding_size,activation=None,name='encoding_layer')(x)\n",
    "x = tf.keras.layers.Dense(n_classes,activation='sigmoid',name='classification_layer')(x)\n",
    "model=tf.keras.Model(inputs=inputs,outputs=x, name='labeling_'+backbonestr)\n",
    "\n",
    "\n",
    "# Define callbacks\n",
    "tf_callback=tf.keras.callbacks.TensorBoard(\n",
    "        log_dir=log_dir,\n",
    "        histogram_freq=0,\n",
    "        write_graph=True,\n",
    "        write_images=False,\n",
    "        write_steps_per_second=False,\n",
    "        update_freq='epoch',\n",
    "        profile_batch=0,\n",
    "        embeddings_freq=0,\n",
    "        embeddings_metadata=None,\n",
    "    )\n",
    "\n",
    "checkpoint_callback = tf.keras.callbacks.ModelCheckpoint(\n",
    "    filepath=save_model_path,\n",
    "    save_weights_only=False,\n",
    "    monitor='val_loss',\n",
    "    mode='min',\n",
    "    save_best_only=True)\n",
    "\n",
    "\n",
    "\n",
    "\n",
    "model.compile(loss=tf.keras.losses.BinaryCrossentropy(),\n",
    "              optimizer='adam',\n",
    "              metrics=['accuracy','AUC','Precision','Recall']\n",
    "             )\n",
    "print('Labeling pretraining initialized with model: \\n')\n",
    "print(model.summary())\n",
    "if debug==True:\n",
    "    print('Fitting the model for 3 epochs on a debug fraction of the dataset')\n",
    "    model.fit(train_data.take(2),epochs=3,callbacks=[tf_callback,checkpoint_callback],validation_data=val_data.take(1))\n",
    "elif debug==False:\n",
    "    print('Fitting the model for 20 epochs')\n",
    "    model.fit(train_data,epochs=20,callbacks=[tf_callback,checkpoint_callback],validation_data=val_data)"
   ]
  },
  {
   "cell_type": "code",
   "execution_count": 33,
   "id": "98be9a00-2c2b-41e9-a771-cfa465630437",
   "metadata": {},
   "outputs": [],
   "source": [
    "new_model = tf.keras.models.load_model('../models/image_encoders/labeling/20220711-204213')"
   ]
  },
  {
   "cell_type": "code",
   "execution_count": 34,
   "id": "0c87909f-b33b-4f7b-beb0-2a2a3fecadd1",
   "metadata": {},
   "outputs": [
    {
     "name": "stdout",
     "output_type": "stream",
     "text": [
      "Model: \"labeling_resnet50\"\n",
      "_________________________________________________________________\n",
      " Layer (type)                Output Shape              Param #   \n",
      "=================================================================\n",
      " input (InputLayer)          [(None, 299, 299, 3)]     0         \n",
      "                                                                 \n",
      " tf.__operators__.getitem_10  (None, 299, 299, 3)      0         \n",
      "  (SlicingOpLambda)                                              \n",
      "                                                                 \n",
      " tf.nn.bias_add_10 (TFOpLamb  (None, 299, 299, 3)      0         \n",
      " da)                                                             \n",
      "                                                                 \n",
      " resnet50 (Functional)       (None, 10, 10, 2048)      23587712  \n",
      "                                                                 \n",
      " flatten_10 (Flatten)        (None, 204800)            0         \n",
      "                                                                 \n",
      " encoding_layer (Dense)      (None, 128)               26214528  \n",
      "                                                                 \n",
      " classification_layer (Dense  (None, 41)               5289      \n",
      " )                                                               \n",
      "                                                                 \n",
      "=================================================================\n",
      "Total params: 49,807,529\n",
      "Trainable params: 26,219,817\n",
      "Non-trainable params: 23,587,712\n",
      "_________________________________________________________________\n"
     ]
    }
   ],
   "source": [
    "new_model.summary()"
   ]
  },
  {
   "cell_type": "code",
   "execution_count": 35,
   "id": "c7bd0e5e-e6bf-43a9-a6f4-d5f7def4d9f4",
   "metadata": {},
   "outputs": [
    {
     "data": {
      "text/plain": [
       "Reusing TensorBoard on port 6006 (pid 25515), started 0:06:48 ago. (Use '!kill 25515' to kill it.)"
      ]
     },
     "metadata": {},
     "output_type": "display_data"
    },
    {
     "data": {
      "text/html": [
       "\n",
       "      <iframe id=\"tensorboard-frame-d7a0d8358bf3638a\" width=\"100%\" height=\"800\" frameborder=\"0\">\n",
       "      </iframe>\n",
       "      <script>\n",
       "        (function() {\n",
       "          const frame = document.getElementById(\"tensorboard-frame-d7a0d8358bf3638a\");\n",
       "          const url = new URL(\"/proxy/6006/\", window.location);\n",
       "          const port = 0;\n",
       "          if (port) {\n",
       "            url.port = port;\n",
       "          }\n",
       "          frame.src = url;\n",
       "        })();\n",
       "      </script>\n",
       "    "
      ],
      "text/plain": [
       "<IPython.core.display.HTML object>"
      ]
     },
     "metadata": {},
     "output_type": "display_data"
    }
   ],
   "source": [
    "%tensorboard --logdir ../model_logs/pretraining/labeling/"
   ]
  }
 ],
 "metadata": {
  "environment": {
   "kernel": "python3",
   "name": "tf2-gpu.2-8.m94",
   "type": "gcloud",
   "uri": "gcr.io/deeplearning-platform-release/tf2-gpu.2-8:m94"
  },
  "kernelspec": {
   "display_name": "Python 3",
   "language": "python",
   "name": "python3"
  },
  "language_info": {
   "codemirror_mode": {
    "name": "ipython",
    "version": 3
   },
   "file_extension": ".py",
   "mimetype": "text/x-python",
   "name": "python",
   "nbconvert_exporter": "python",
   "pygments_lexer": "ipython3",
   "version": "3.7.12"
  }
 },
 "nbformat": 4,
 "nbformat_minor": 5
}
