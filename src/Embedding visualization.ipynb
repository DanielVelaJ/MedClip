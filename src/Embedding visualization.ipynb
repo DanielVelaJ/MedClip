{
 "cells": [
  {
   "cell_type": "code",
   "execution_count": null,
   "id": "890e4565-3192-4fef-98ac-b7a738c00782",
   "metadata": {},
   "outputs": [],
   "source": [
    "# Creating a model\n",
    "embedding_dimensionality = 30\n",
    "hidden_state_dimensionality = 60\n",
    "\n",
    "i = tf.keras.layers.Input(shape=(sequence_length,))\n",
    "x = tf.keras.layers.Embedding(words+1, embedding_dimensionality)(i)\n",
    "x = tf.keras.layers.Dropout(0.3)(x)\n",
    "x = tf.keras.layers.Dense(100)(x)\n",
    "x = tf.keras.layers.Dropout(0.3)(x)\n",
    "x = tf.keras.layers.GlobalMaxPooling1D()(x)\n",
    "x = tf.keras.layers.Dense(num_classes, activation='softmax')(x)\n",
    "\n",
    "model = tf.keras.models.Model(i, x)"
   ]
  },
  {
   "cell_type": "code",
   "execution_count": 4,
   "id": "7f9db1f7-7771-4b5d-8bd1-d9d27288ec11",
   "metadata": {},
   "outputs": [
    {
     "name": "stderr",
     "output_type": "stream",
     "text": [
      "/home/jupyter/MedClip/venv/lib/python3.7/site-packages/tqdm/auto.py:22: TqdmWarning: IProgress not found. Please update jupyter and ipywidgets. See https://ipywidgets.readthedocs.io/en/stable/user_install.html\n",
      "  from .autonotebook import tqdm as notebook_tqdm\n"
     ]
    }
   ],
   "source": [
    "from models.model_utils import load_captioning_model\n",
    "from tokenizers import KerasTokenizer\n",
    "import tensorflow as tf\n",
    "from pipelines import build_pipeline\n",
    "import os\n",
    "from tensorboard.plugins import projector"
   ]
  },
  {
   "cell_type": "code",
   "execution_count": 1,
   "id": "3bb13992-7734-4861-b6f6-4e34556ff69d",
   "metadata": {},
   "outputs": [],
   "source": [
    "%load_ext tensorboard"
   ]
  },
  {
   "cell_type": "code",
   "execution_count": 5,
   "id": "ab70ce31-5755-4bfd-b43b-7020017ecb04",
   "metadata": {},
   "outputs": [
    {
     "name": "stderr",
     "output_type": "stream",
     "text": [
      "2023-02-21 19:41:11.232918: I tensorflow/stream_executor/cuda/cuda_gpu_executor.cc:936] successful NUMA node read from SysFS had negative value (-1), but there must be at least one NUMA node, so returning NUMA node zero\n",
      "2023-02-21 19:41:11.283972: I tensorflow/stream_executor/cuda/cuda_gpu_executor.cc:936] successful NUMA node read from SysFS had negative value (-1), but there must be at least one NUMA node, so returning NUMA node zero\n",
      "2023-02-21 19:41:11.286835: I tensorflow/stream_executor/cuda/cuda_gpu_executor.cc:936] successful NUMA node read from SysFS had negative value (-1), but there must be at least one NUMA node, so returning NUMA node zero\n",
      "2023-02-21 19:41:11.301094: I tensorflow/core/platform/cpu_feature_guard.cc:151] This TensorFlow binary is optimized with oneAPI Deep Neural Network Library (oneDNN) to use the following CPU instructions in performance-critical operations:  AVX2 FMA\n",
      "To enable them in other operations, rebuild TensorFlow with the appropriate compiler flags.\n",
      "2023-02-21 19:41:11.306754: I tensorflow/stream_executor/cuda/cuda_gpu_executor.cc:936] successful NUMA node read from SysFS had negative value (-1), but there must be at least one NUMA node, so returning NUMA node zero\n",
      "2023-02-21 19:41:11.309640: I tensorflow/stream_executor/cuda/cuda_gpu_executor.cc:936] successful NUMA node read from SysFS had negative value (-1), but there must be at least one NUMA node, so returning NUMA node zero\n",
      "2023-02-21 19:41:11.312324: I tensorflow/stream_executor/cuda/cuda_gpu_executor.cc:936] successful NUMA node read from SysFS had negative value (-1), but there must be at least one NUMA node, so returning NUMA node zero\n",
      "2023-02-21 19:41:20.777311: I tensorflow/stream_executor/cuda/cuda_gpu_executor.cc:936] successful NUMA node read from SysFS had negative value (-1), but there must be at least one NUMA node, so returning NUMA node zero\n",
      "2023-02-21 19:41:20.779396: I tensorflow/stream_executor/cuda/cuda_gpu_executor.cc:936] successful NUMA node read from SysFS had negative value (-1), but there must be at least one NUMA node, so returning NUMA node zero\n",
      "2023-02-21 19:41:20.781180: I tensorflow/stream_executor/cuda/cuda_gpu_executor.cc:936] successful NUMA node read from SysFS had negative value (-1), but there must be at least one NUMA node, so returning NUMA node zero\n",
      "2023-02-21 19:41:20.818482: I tensorflow/core/common_runtime/gpu/gpu_device.cc:1525] Created device /job:localhost/replica:0/task:0/device:GPU:0 with 13598 MB memory:  -> device: 0, name: Tesla T4, pci bus id: 0000:00:04.0, compute capability: 7.5\n",
      "2023-02-21 19:41:27.102961: I tensorflow/stream_executor/cuda/cuda_dnn.cc:368] Loaded cuDNN version 8200\n"
     ]
    },
    {
     "name": "stdout",
     "output_type": "stream",
     "text": [
      "1/1 [==============================] - 11s 11s/step - loss: 50.7898 - acc: 0.0000e+00\n"
     ]
    },
    {
     "name": "stderr",
     "output_type": "stream",
     "text": [
      "2023-02-21 19:41:36.915771: W tensorflow/core/framework/cpu_allocator_impl.cc:82] Allocation of 25499376 exceeds 10% of free system memory.\n",
      "2023-02-21 19:41:37.317032: W tensorflow/core/framework/cpu_allocator_impl.cc:82] Allocation of 25499376 exceeds 10% of free system memory.\n",
      "2023-02-21 19:41:38.138584: W tensorflow/core/framework/cpu_allocator_impl.cc:82] Allocation of 25499376 exceeds 10% of free system memory.\n",
      "2023-02-21 19:41:38.335720: W tensorflow/core/framework/cpu_allocator_impl.cc:82] Allocation of 25499376 exceeds 10% of free system memory.\n",
      "2023-02-21 19:41:39.007146: W tensorflow/core/framework/cpu_allocator_impl.cc:82] Allocation of 25499376 exceeds 10% of free system memory.\n"
     ]
    }
   ],
   "source": [
    "model_path = '../models/experiment_2_coco'\n",
    "model = load_captioning_model(model_path)\n"
   ]
  },
  {
   "cell_type": "code",
   "execution_count": 6,
   "id": "b8b4b81f-7483-4594-8fc6-f815f09f1a70",
   "metadata": {},
   "outputs": [],
   "source": [
    "tokenizer = KerasTokenizer(model.config['seq_len'])\n",
    "tokenizer.load_vocabulary(model_path)"
   ]
  },
  {
   "cell_type": "code",
   "execution_count": 141,
   "id": "8d0910c3-843b-452d-973e-29c855907c27",
   "metadata": {},
   "outputs": [
    {
     "data": {
      "text/plain": [
       "(11802, 512)"
      ]
     },
     "execution_count": 141,
     "metadata": {},
     "output_type": "execute_result"
    }
   ],
   "source": [
    "model.layers[1].variables[0].numpy().shape"
   ]
  },
  {
   "cell_type": "code",
   "execution_count": 8,
   "id": "3ff69318-a1e8-456c-8411-42f42f048269",
   "metadata": {},
   "outputs": [],
   "source": [
    "# Set up a logs directory, so Tensorboard knows where to look for files.\n",
    "log_dir='./logs/projection-example/'\n",
    "if not os.path.exists(log_dir):\n",
    "    os.makedirs(log_dir)\n",
    "\n",
    "# Save Labels separately on a line-by-line manner.\n",
    "with open(os.path.join(log_dir, 'metadata.tsv'), \"w\") as f:\n",
    "    # f.write(\"vocab\\n\")\n",
    "    # f.write(\"paddingtoken\\t\\n\")\n",
    "    \n",
    "    for subwords in tokenizer.vocabulary:\n",
    "        f.write(\"{}\\n\".format('_'+subwords+'_'))\n",
    "      # Fill in the rest of the labels with \"unknown\".\n",
    "    # for unknown in range(1, encoder.vocab_size - len(encoder.subwords)):\n",
    "    #     f.write(\"unknown #{}\\n\".format(unknown))\n",
    "    # f.write(\"flyingcomma\\n\")\n",
    "\n",
    "# Save the weights we want to analyze as a variable. Note that the first\n",
    "# value represents any unknown word, which is not in the metadata, here\n",
    "# we will remove this value.\n",
    "weights = tf.Variable(model.layers[1].variables[0].numpy())\n",
    "# Create a checkpoint from embedding, the filename and key are the\n",
    "# name of the tensor.\n",
    "checkpoint = tf.train.Checkpoint(embedding=weights)\n",
    "checkpoint.save(os.path.join(log_dir, \"embedding.ckpt\"))\n",
    "\n",
    "# Set up config.\n",
    "config = projector.ProjectorConfig()\n",
    "embedding = config.embeddings.add()\n",
    "# The name of the tensor will be suffixed by `/.ATTRIBUTES/VARIABLE_VALUE`.\n",
    "embedding.tensor_name = \"embedding/.ATTRIBUTES/VARIABLE_VALUE\"\n",
    "embedding.metadata_path = 'metadata.tsv'\n",
    "projector.visualize_embeddings(log_dir, config)"
   ]
  },
  {
   "cell_type": "code",
   "execution_count": 155,
   "id": "ac461f8f-f92c-43b2-b56f-d3a9fbb12d17",
   "metadata": {},
   "outputs": [],
   "source": [
    "!kill 9072"
   ]
  },
  {
   "cell_type": "code",
   "execution_count": 9,
   "id": "9411ff1b-5eb4-4ede-9fa3-1bd76814595e",
   "metadata": {},
   "outputs": [
    {
     "data": {
      "text/html": [
       "\n",
       "      <iframe id=\"tensorboard-frame-570db1da7f9b5ff7\" width=\"100%\" height=\"800\" frameborder=\"0\">\n",
       "      </iframe>\n",
       "      <script>\n",
       "        (function() {\n",
       "          const frame = document.getElementById(\"tensorboard-frame-570db1da7f9b5ff7\");\n",
       "          const url = new URL(\"/proxy/6007/\", window.location);\n",
       "          const port = 0;\n",
       "          if (port) {\n",
       "            url.port = port;\n",
       "          }\n",
       "          frame.src = url;\n",
       "        })();\n",
       "      </script>\n",
       "    "
      ],
      "text/plain": [
       "<IPython.core.display.HTML object>"
      ]
     },
     "metadata": {},
     "output_type": "display_data"
    }
   ],
   "source": [
    "%tensorboard --logdir './logs/projection-example/'"
   ]
  }
 ],
 "metadata": {
  "environment": {
   "kernel": "myenv",
   "name": "tf2-gpu.2-8.m102",
   "type": "gcloud",
   "uri": "gcr.io/deeplearning-platform-release/tf2-gpu.2-8:m102"
  },
  "kernelspec": {
   "display_name": "myenv",
   "language": "python",
   "name": "myenv"
  },
  "language_info": {
   "codemirror_mode": {
    "name": "ipython",
    "version": 3
   },
   "file_extension": ".py",
   "mimetype": "text/x-python",
   "name": "python",
   "nbconvert_exporter": "python",
   "pygments_lexer": "ipython3",
   "version": "3.7.12"
  }
 },
 "nbformat": 4,
 "nbformat_minor": 5
}
