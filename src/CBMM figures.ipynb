{
 "cells": [
  {
   "cell_type": "code",
   "execution_count": 1,
   "id": "056faa9a-e22e-4fa1-a6e4-f5a2f3013e51",
   "metadata": {},
   "outputs": [],
   "source": [
    "import pandas as pd"
   ]
  },
  {
   "cell_type": "code",
   "execution_count": 3,
   "id": "5c03570d-82cb-4303-b3eb-808bc3c3a344",
   "metadata": {},
   "outputs": [],
   "source": [
    "df= pd.read_csv(\"../models/study_1/compiled_results.csv\")"
   ]
  },
  {
   "cell_type": "code",
   "execution_count": 12,
   "id": "36c9b1a6-fe4d-4c59-af43-99397d5e831d",
   "metadata": {},
   "outputs": [
    {
     "data": {
      "text/plain": [
       "Index(['Unnamed: 0', 'dataset', 'seq_len', 'num_heads', 'model_dim', 'dropout',\n",
       "       'img_backbone_trainable', 'img_size', 'img_backbone',\n",
       "       'intermediate_size', 'capts_per_img', 'num_encoder_blocks',\n",
       "       'num_decoder_blocks', 'max_epochs', 'learning_rate', 'metric',\n",
       "       'normalization', 'vocab_size', 'core_modality_f1_w', 'plane_f1_w',\n",
       "       'anatomy_f1_w', 'bleu', 'mp1', 'mp2', 'mp3', 'mp4', 'bp',\n",
       "       'rouge1_f_low', 'rouge1_f_mid', 'rouge1_f_high', 'rouge2_f_low',\n",
       "       'rouge2_f_mid', 'rouge2_f_high', 'rougeL_f_low', 'rougeL_f_mid',\n",
       "       'rougeL_f_high'],\n",
       "      dtype='object')"
      ]
     },
     "execution_count": 12,
     "metadata": {},
     "output_type": "execute_result"
    }
   ],
   "source": [
    "df.columns"
   ]
  },
  {
   "cell_type": "code",
   "execution_count": 22,
   "id": "3e003b1f-bda4-4fc3-adb6-31b25d5b5f9f",
   "metadata": {},
   "outputs": [],
   "source": [
    "f1_df=df.loc[4,['core_modality_f1_w', 'plane_f1_w',\n",
    "       'anatomy_f1_w']].reset_index()"
   ]
  },
  {
   "cell_type": "code",
   "execution_count": 51,
   "id": "af4643f7-c302-48f1-b47b-a499ce6a2c66",
   "metadata": {},
   "outputs": [
    {
     "data": {
      "text/html": [
       "<div>\n",
       "<style scoped>\n",
       "    .dataframe tbody tr th:only-of-type {\n",
       "        vertical-align: middle;\n",
       "    }\n",
       "\n",
       "    .dataframe tbody tr th {\n",
       "        vertical-align: top;\n",
       "    }\n",
       "\n",
       "    .dataframe thead th {\n",
       "        text-align: right;\n",
       "    }\n",
       "</style>\n",
       "<table border=\"1\" class=\"dataframe\">\n",
       "  <thead>\n",
       "    <tr style=\"text-align: right;\">\n",
       "      <th></th>\n",
       "      <th>Category</th>\n",
       "      <th>F1 weighted score</th>\n",
       "    </tr>\n",
       "  </thead>\n",
       "  <tbody>\n",
       "    <tr>\n",
       "      <th>0</th>\n",
       "      <td>core_modality_f1_w</td>\n",
       "      <td>0.915382</td>\n",
       "    </tr>\n",
       "    <tr>\n",
       "      <th>1</th>\n",
       "      <td>plane_f1_w</td>\n",
       "      <td>0.701626</td>\n",
       "    </tr>\n",
       "    <tr>\n",
       "      <th>2</th>\n",
       "      <td>anatomy_f1_w</td>\n",
       "      <td>0.595948</td>\n",
       "    </tr>\n",
       "  </tbody>\n",
       "</table>\n",
       "</div>"
      ],
      "text/plain": [
       "             Category F1 weighted score\n",
       "0  core_modality_f1_w          0.915382\n",
       "1          plane_f1_w          0.701626\n",
       "2        anatomy_f1_w          0.595948"
      ]
     },
     "execution_count": 51,
     "metadata": {},
     "output_type": "execute_result"
    }
   ],
   "source": [
    "f1_df"
   ]
  },
  {
   "cell_type": "code",
   "execution_count": 64,
   "id": "1260ef5c-87cb-423c-ac84-68ce19022cd8",
   "metadata": {},
   "outputs": [],
   "source": [
    "f1_df.rename(columns={'index':'Category',4:'F1 weighted score'}, inplace=True)\n",
    "f1_df.replace('core_modality_f1_w', 'Modality',inplace=True)\n",
    "f1_df.replace('plane_f1_w', 'Plane',inplace=True)\n",
    "f1_df.replace('anatomy_f1_w', 'Anatomy',inplace=True)"
   ]
  },
  {
   "cell_type": "code",
   "execution_count": 67,
   "id": "8e66c8fc-dee8-4249-9a76-09e642e6fb9a",
   "metadata": {},
   "outputs": [],
   "source": [
    "latex_table=f1_df.to_latex(index=False,\n",
    "                 caption='F1 scores for extracted labels',\n",
    "                 label='tab: f1_scores',\n",
    "                 bold_rows=True,\n",
    "                 # column_format='lr',\n",
    "                 # float_format=\"%.0f\",\n",
    "                 na_rep='-')"
   ]
  },
  {
   "cell_type": "code",
   "execution_count": 68,
   "id": "9d51d8d1-1cb6-4477-ad93-4f4e7806bb7f",
   "metadata": {},
   "outputs": [
    {
     "name": "stdout",
     "output_type": "stream",
     "text": [
      "\\begin{table}\n",
      "\\centering\n",
      "\\caption{F1 scores for extracted labels}\n",
      "\\label{tab: f1_scores}\n",
      "\\begin{tabular}{lr}\n",
      "\\toprule\n",
      "Category &  F1 weighted score \\\\\n",
      "\\midrule\n",
      "Modality &           0.915382 \\\\\n",
      "   Plane &           0.701626 \\\\\n",
      " Anatomy &           0.595948 \\\\\n",
      "\\bottomrule\n",
      "\\end{tabular}\n",
      "\\end{table}\n",
      "\n"
     ]
    }
   ],
   "source": [
    "print(latex_table)"
   ]
  },
  {
   "cell_type": "code",
   "execution_count": 62,
   "id": "a6e6f690-e754-47d3-b209-706c7bb048c7",
   "metadata": {},
   "outputs": [
    {
     "data": {
      "text/html": [
       "<div>\n",
       "<style scoped>\n",
       "    .dataframe tbody tr th:only-of-type {\n",
       "        vertical-align: middle;\n",
       "    }\n",
       "\n",
       "    .dataframe tbody tr th {\n",
       "        vertical-align: top;\n",
       "    }\n",
       "\n",
       "    .dataframe thead th {\n",
       "        text-align: right;\n",
       "    }\n",
       "</style>\n",
       "<table border=\"1\" class=\"dataframe\">\n",
       "  <thead>\n",
       "    <tr style=\"text-align: right;\">\n",
       "      <th></th>\n",
       "      <th>Category</th>\n",
       "      <th>F1 weighted score</th>\n",
       "    </tr>\n",
       "  </thead>\n",
       "  <tbody>\n",
       "    <tr>\n",
       "      <th>0</th>\n",
       "      <td>Modality</td>\n",
       "      <td>0.915382</td>\n",
       "    </tr>\n",
       "    <tr>\n",
       "      <th>1</th>\n",
       "      <td>Plane</td>\n",
       "      <td>0.701626</td>\n",
       "    </tr>\n",
       "    <tr>\n",
       "      <th>2</th>\n",
       "      <td>Anatomy</td>\n",
       "      <td>0.595948</td>\n",
       "    </tr>\n",
       "  </tbody>\n",
       "</table>\n",
       "</div>"
      ],
      "text/plain": [
       "   Category  F1 weighted score\n",
       "0  Modality           0.915382\n",
       "1     Plane           0.701626\n",
       "2   Anatomy           0.595948"
      ]
     },
     "execution_count": 62,
     "metadata": {},
     "output_type": "execute_result"
    }
   ],
   "source": [
    "f1_df"
   ]
  },
  {
   "cell_type": "code",
   "execution_count": 70,
   "id": "c74f80b4-e499-41aa-9fcf-a5ff2600a149",
   "metadata": {},
   "outputs": [],
   "source": [
    "d={\n",
    "    \"dataset\": [\n",
    "        \"medpix\"\n",
    "    ],\n",
    "    \"seq_len\": [\n",
    "        178\n",
    "    ],\n",
    "    \"num_heads\": [\n",
    "        16,\n",
    "        8,\n",
    "        4\n",
    "    ],\n",
    "    \"model_dim\": [\n",
    "        512,\n",
    "        256,\n",
    "        128\n",
    "    ],\n",
    "    \"dropout\": [\n",
    "        0.2,\n",
    "        0.4,\n",
    "        0.6\n",
    "    ],\n",
    "    \"img_backbone_trainable\": [\n",
    "        False\n",
    "    ],\n",
    "    \"img_size\": [\n",
    "        [\n",
    "            299,\n",
    "            299,\n",
    "            3\n",
    "        ]\n",
    "    ],\n",
    "    \"img_backbone\": [\n",
    "        \"efficientnetb0\"\n",
    "    ],\n",
    "    \"intermediate_size\": [\n",
    "        2048\n",
    "    ],\n",
    "    \"capts_per_img\": [\n",
    "        1\n",
    "    ],\n",
    "    \"num_encoder_blocks\": [\n",
    "        3\n",
    "    ],\n",
    "    \"num_decoder_blocks\": [\n",
    "        3\n",
    "    ],\n",
    "    \"max_epochs\": [\n",
    "        100\n",
    "    ],\n",
    "    \"learning_rate\": [\n",
    "        0.001\n",
    "    ],\n",
    "    \"metric\": [\n",
    "        \"val_acc\"\n",
    "    ],\n",
    "    \"normalization\": [\n",
    "        \"pre\"\n",
    "    ]}"
   ]
  },
  {
   "cell_type": "code",
   "execution_count": 74,
   "id": "ee211bfe-7d1c-4252-a7ee-8f0519b9b1c1",
   "metadata": {},
   "outputs": [],
   "source": [
    "params=list(d.keys())"
   ]
  },
  {
   "cell_type": "code",
   "execution_count": 77,
   "id": "1bfec4d9-77ed-4d69-b442-17c3cdb926ae",
   "metadata": {},
   "outputs": [],
   "source": [
    "default_values = [d[param][0] for param in params]"
   ]
  },
  {
   "cell_type": "code",
   "execution_count": 79,
   "id": "e8931b09-b511-4de1-ab67-dc959f619743",
   "metadata": {},
   "outputs": [],
   "source": [
    "explored_values = [d[param][1:] for param in params]"
   ]
  },
  {
   "cell_type": "code",
   "execution_count": 86,
   "id": "4e7fc33a-ef00-4d23-a28a-bd38ae317f59",
   "metadata": {},
   "outputs": [],
   "source": [
    "ablation_df=pd.DataFrame({'parameter name':params,\n",
    "              'default values':default_values,\n",
    "              'explored values':explored_values})\n"
   ]
  },
  {
   "cell_type": "code",
   "execution_count": 100,
   "id": "78140571-321c-42cd-bde5-281bddaf88ba",
   "metadata": {},
   "outputs": [],
   "source": [
    "mask = ablation_df['explored values'].apply(lambda x: x == [])\n",
    "\n",
    "# Filter the DataFrame using the mask\n",
    "result = ablation_df[mask]"
   ]
  },
  {
   "cell_type": "code",
   "execution_count": 107,
   "id": "e3d668b7-1a8d-47ba-be27-eaa3f6cae9b6",
   "metadata": {},
   "outputs": [
    {
     "data": {
      "text/plain": [
       "0      True\n",
       "1      True\n",
       "2     False\n",
       "3     False\n",
       "4     False\n",
       "5      True\n",
       "6      True\n",
       "7      True\n",
       "8      True\n",
       "9      True\n",
       "10     True\n",
       "11     True\n",
       "12     True\n",
       "13     True\n",
       "14     True\n",
       "15     True\n",
       "Name: explored values, dtype: bool"
      ]
     },
     "execution_count": 107,
     "metadata": {},
     "output_type": "execute_result"
    }
   ],
   "source": [
    "mask"
   ]
  },
  {
   "cell_type": "code",
   "execution_count": 110,
   "id": "77d69a2a-30e7-461c-b52b-d2c677ce751f",
   "metadata": {},
   "outputs": [
    {
     "data": {
      "text/html": [
       "<div>\n",
       "<style scoped>\n",
       "    .dataframe tbody tr th:only-of-type {\n",
       "        vertical-align: middle;\n",
       "    }\n",
       "\n",
       "    .dataframe tbody tr th {\n",
       "        vertical-align: top;\n",
       "    }\n",
       "\n",
       "    .dataframe thead th {\n",
       "        text-align: right;\n",
       "    }\n",
       "</style>\n",
       "<table border=\"1\" class=\"dataframe\">\n",
       "  <thead>\n",
       "    <tr style=\"text-align: right;\">\n",
       "      <th></th>\n",
       "      <th>parameter name</th>\n",
       "      <th>default values</th>\n",
       "      <th>explored values</th>\n",
       "    </tr>\n",
       "  </thead>\n",
       "  <tbody>\n",
       "    <tr>\n",
       "      <th>0</th>\n",
       "      <td>dataset</td>\n",
       "      <td>medpix</td>\n",
       "      <td>[]</td>\n",
       "    </tr>\n",
       "    <tr>\n",
       "      <th>1</th>\n",
       "      <td>seq_len</td>\n",
       "      <td>178</td>\n",
       "      <td>[]</td>\n",
       "    </tr>\n",
       "    <tr>\n",
       "      <th>2</th>\n",
       "      <td>num_heads</td>\n",
       "      <td>16</td>\n",
       "      <td>[8, 4]</td>\n",
       "    </tr>\n",
       "    <tr>\n",
       "      <th>3</th>\n",
       "      <td>model_dim</td>\n",
       "      <td>512</td>\n",
       "      <td>[256, 128]</td>\n",
       "    </tr>\n",
       "    <tr>\n",
       "      <th>4</th>\n",
       "      <td>dropout</td>\n",
       "      <td>0.2</td>\n",
       "      <td>[0.4, 0.6]</td>\n",
       "    </tr>\n",
       "    <tr>\n",
       "      <th>5</th>\n",
       "      <td>img_backbone_trainable</td>\n",
       "      <td>False</td>\n",
       "      <td>[]</td>\n",
       "    </tr>\n",
       "    <tr>\n",
       "      <th>6</th>\n",
       "      <td>img_size</td>\n",
       "      <td>[299, 299, 3]</td>\n",
       "      <td>[]</td>\n",
       "    </tr>\n",
       "    <tr>\n",
       "      <th>7</th>\n",
       "      <td>img_backbone</td>\n",
       "      <td>efficientnetb0</td>\n",
       "      <td>[]</td>\n",
       "    </tr>\n",
       "    <tr>\n",
       "      <th>8</th>\n",
       "      <td>intermediate_size</td>\n",
       "      <td>2048</td>\n",
       "      <td>[]</td>\n",
       "    </tr>\n",
       "    <tr>\n",
       "      <th>9</th>\n",
       "      <td>capts_per_img</td>\n",
       "      <td>1</td>\n",
       "      <td>[]</td>\n",
       "    </tr>\n",
       "    <tr>\n",
       "      <th>10</th>\n",
       "      <td>num_encoder_blocks</td>\n",
       "      <td>3</td>\n",
       "      <td>[]</td>\n",
       "    </tr>\n",
       "    <tr>\n",
       "      <th>11</th>\n",
       "      <td>num_decoder_blocks</td>\n",
       "      <td>3</td>\n",
       "      <td>[]</td>\n",
       "    </tr>\n",
       "    <tr>\n",
       "      <th>12</th>\n",
       "      <td>max_epochs</td>\n",
       "      <td>100</td>\n",
       "      <td>[]</td>\n",
       "    </tr>\n",
       "    <tr>\n",
       "      <th>13</th>\n",
       "      <td>learning_rate</td>\n",
       "      <td>0.001</td>\n",
       "      <td>[]</td>\n",
       "    </tr>\n",
       "    <tr>\n",
       "      <th>14</th>\n",
       "      <td>metric</td>\n",
       "      <td>val_acc</td>\n",
       "      <td>[]</td>\n",
       "    </tr>\n",
       "    <tr>\n",
       "      <th>15</th>\n",
       "      <td>normalization</td>\n",
       "      <td>pre</td>\n",
       "      <td>[]</td>\n",
       "    </tr>\n",
       "  </tbody>\n",
       "</table>\n",
       "</div>"
      ],
      "text/plain": [
       "            parameter name  default values explored values\n",
       "0                  dataset          medpix              []\n",
       "1                  seq_len             178              []\n",
       "2                num_heads              16          [8, 4]\n",
       "3                model_dim             512      [256, 128]\n",
       "4                  dropout             0.2      [0.4, 0.6]\n",
       "5   img_backbone_trainable           False              []\n",
       "6                 img_size   [299, 299, 3]              []\n",
       "7             img_backbone  efficientnetb0              []\n",
       "8        intermediate_size            2048              []\n",
       "9            capts_per_img               1              []\n",
       "10      num_encoder_blocks               3              []\n",
       "11      num_decoder_blocks               3              []\n",
       "12              max_epochs             100              []\n",
       "13           learning_rate           0.001              []\n",
       "14                  metric         val_acc              []\n",
       "15           normalization             pre              []"
      ]
     },
     "execution_count": 110,
     "metadata": {},
     "output_type": "execute_result"
    }
   ],
   "source": [
    "ablation_df"
   ]
  },
  {
   "cell_type": "code",
   "execution_count": 113,
   "id": "6e5b71e3-7d09-4319-b231-2194ff68a19a",
   "metadata": {},
   "outputs": [],
   "source": [
    "ablation_latex=ablation_df.loc[~mask].to_latex(index=False,\n",
    "                 caption='F1 scores for extracted labels',\n",
    "                 label='tab: f1_scores',\n",
    "                 bold_rows=True,\n",
    "                 # column_format='lr',\n",
    "                 # float_format=\"%.0f\",\n",
    ")"
   ]
  },
  {
   "cell_type": "code",
   "execution_count": 114,
   "id": "5aca2b6d-97ab-41ab-9cad-21014089d444",
   "metadata": {},
   "outputs": [
    {
     "name": "stdout",
     "output_type": "stream",
     "text": [
      "\\begin{table}\n",
      "\\centering\n",
      "\\caption{F1 scores for extracted labels}\n",
      "\\label{tab: f1_scores}\n",
      "\\begin{tabular}{lll}\n",
      "\\toprule\n",
      "parameter name & default values & explored values \\\\\n",
      "\\midrule\n",
      "     num\\_heads &             16 &          [8, 4] \\\\\n",
      "     model\\_dim &            512 &      [256, 128] \\\\\n",
      "       dropout &            0.2 &      [0.4, 0.6] \\\\\n",
      "\\bottomrule\n",
      "\\end{tabular}\n",
      "\\end{table}\n",
      "\n"
     ]
    }
   ],
   "source": [
    "print(ablation_latex)"
   ]
  },
  {
   "cell_type": "code",
   "execution_count": 221,
   "id": "e1c1155e-eac9-490c-a664-d3311e4b4856",
   "metadata": {},
   "outputs": [],
   "source": []
  },
  {
   "cell_type": "code",
   "execution_count": 280,
   "id": "a06aa4e7-20cb-4f1f-8a88-89a7327361ce",
   "metadata": {},
   "outputs": [],
   "source": [
    "ab_results_df= pd.read_csv('../models/study_2/compiled_results.csv')\n",
    "renamings={\n",
    "    'dataset': 'Dataset',\n",
    "    'num_heads': 'Attention heads',\n",
    "    'model_dim': 'Model dimension',\n",
    "    'core_modality_f1_w': 'Modality F1w', \n",
    "    'plane_f1_w': 'Plane F1w',\n",
    "    'anatomy_f1_w':'Anatomy F1w', \n",
    "    'bleu':'BLEU-4',\n",
    "    'rougeL_f_mid':'Rouge-L'\n",
    "\n",
    "}\n",
    "ab_table=ab_results_df.rename(columns=renamings)"
   ]
  },
  {
   "cell_type": "code",
   "execution_count": 281,
   "id": "d86db96b-a6c6-4f5c-a400-566271b2698e",
   "metadata": {},
   "outputs": [],
   "source": [
    "ab_table.loc[5,'Dataset']='COCO Captions'\n",
    "# ab_table.loc[6,'Dataset']='COCO Captions'\n",
    "# ab_table.loc[7,'Dataset']='COCO Captions'\n",
    "# ab_table.loc[8,'Dataset']='COCO Captions'\n",
    "\n",
    "ab_table.loc[5,'Attention heads']=16\n",
    "ab_table.loc[5,'Model dimension']=512\n",
    "ab_table.loc[5,'BLEU-4']=26.78\n",
    "ab_table.loc[5,'Rouge-L']=.2112\n",
    "\n",
    "# ab_table.loc[7,'BLEU-4']=16.7\n",
    "\n",
    "# ab_table.loc[6,'BLEU-4']=26.4\n",
    "\n",
    "\n",
    "# ab_table['Model']=['Ours']*6+['CapDec','VLKD']\n",
    "ab_table.replace('medpix','Medpix', inplace=True)\n",
    "cols=[\n",
    "    # 'Model',\n",
    "    'Dataset',\n",
    "      'Attention heads', \n",
    "      'Model dimension', 'Modality F1w', \n",
    "      'Plane F1w', 'Anatomy F1w',\n",
    "      'BLEU-4', 'Rouge-L']\n"
   ]
  },
  {
   "cell_type": "code",
   "execution_count": 282,
   "id": "2094418f-efa6-4807-aa99-65f1a57a093c",
   "metadata": {},
   "outputs": [
    {
     "data": {
      "text/html": [
       "<div>\n",
       "<style scoped>\n",
       "    .dataframe tbody tr th:only-of-type {\n",
       "        vertical-align: middle;\n",
       "    }\n",
       "\n",
       "    .dataframe tbody tr th {\n",
       "        vertical-align: top;\n",
       "    }\n",
       "\n",
       "    .dataframe thead th {\n",
       "        text-align: right;\n",
       "    }\n",
       "</style>\n",
       "<table border=\"1\" class=\"dataframe\">\n",
       "  <thead>\n",
       "    <tr style=\"text-align: right;\">\n",
       "      <th></th>\n",
       "      <th>Dataset</th>\n",
       "      <th>Attention heads</th>\n",
       "      <th>Model dimension</th>\n",
       "      <th>Modality F1w</th>\n",
       "      <th>Plane F1w</th>\n",
       "      <th>Anatomy F1w</th>\n",
       "      <th>BLEU-4</th>\n",
       "      <th>Rouge-L</th>\n",
       "    </tr>\n",
       "  </thead>\n",
       "  <tbody>\n",
       "    <tr>\n",
       "      <th>0</th>\n",
       "      <td>Medpix</td>\n",
       "      <td>16.0</td>\n",
       "      <td>512.0</td>\n",
       "      <td>0.923994</td>\n",
       "      <td>0.746223</td>\n",
       "      <td>0.652002</td>\n",
       "      <td>38.375324</td>\n",
       "      <td>45.929453</td>\n",
       "    </tr>\n",
       "    <tr>\n",
       "      <th>1</th>\n",
       "      <td>Medpix</td>\n",
       "      <td>8.0</td>\n",
       "      <td>512.0</td>\n",
       "      <td>0.925157</td>\n",
       "      <td>0.740391</td>\n",
       "      <td>0.628541</td>\n",
       "      <td>37.742946</td>\n",
       "      <td>45.160067</td>\n",
       "    </tr>\n",
       "    <tr>\n",
       "      <th>2</th>\n",
       "      <td>Medpix</td>\n",
       "      <td>4.0</td>\n",
       "      <td>512.0</td>\n",
       "      <td>0.930470</td>\n",
       "      <td>0.728642</td>\n",
       "      <td>0.626664</td>\n",
       "      <td>38.118636</td>\n",
       "      <td>45.282635</td>\n",
       "    </tr>\n",
       "    <tr>\n",
       "      <th>3</th>\n",
       "      <td>Medpix</td>\n",
       "      <td>16.0</td>\n",
       "      <td>256.0</td>\n",
       "      <td>0.936576</td>\n",
       "      <td>0.730867</td>\n",
       "      <td>0.662660</td>\n",
       "      <td>38.208840</td>\n",
       "      <td>46.294130</td>\n",
       "    </tr>\n",
       "    <tr>\n",
       "      <th>4</th>\n",
       "      <td>Medpix</td>\n",
       "      <td>16.0</td>\n",
       "      <td>128.0</td>\n",
       "      <td>0.916893</td>\n",
       "      <td>0.723537</td>\n",
       "      <td>0.605354</td>\n",
       "      <td>36.282100</td>\n",
       "      <td>42.829835</td>\n",
       "    </tr>\n",
       "    <tr>\n",
       "      <th>5</th>\n",
       "      <td>COCO Captions</td>\n",
       "      <td>16.0</td>\n",
       "      <td>512.0</td>\n",
       "      <td>NaN</td>\n",
       "      <td>NaN</td>\n",
       "      <td>NaN</td>\n",
       "      <td>26.780000</td>\n",
       "      <td>21.120000</td>\n",
       "    </tr>\n",
       "  </tbody>\n",
       "</table>\n",
       "</div>"
      ],
      "text/plain": [
       "         Dataset  Attention heads  Model dimension  Modality F1w  Plane F1w  \\\n",
       "0         Medpix             16.0            512.0      0.923994   0.746223   \n",
       "1         Medpix              8.0            512.0      0.925157   0.740391   \n",
       "2         Medpix              4.0            512.0      0.930470   0.728642   \n",
       "3         Medpix             16.0            256.0      0.936576   0.730867   \n",
       "4         Medpix             16.0            128.0      0.916893   0.723537   \n",
       "5  COCO Captions             16.0            512.0           NaN        NaN   \n",
       "\n",
       "   Anatomy F1w     BLEU-4    Rouge-L  \n",
       "0     0.652002  38.375324  45.929453  \n",
       "1     0.628541  37.742946  45.160067  \n",
       "2     0.626664  38.118636  45.282635  \n",
       "3     0.662660  38.208840  46.294130  \n",
       "4     0.605354  36.282100  42.829835  \n",
       "5          NaN  26.780000  21.120000  "
      ]
     },
     "execution_count": 282,
     "metadata": {},
     "output_type": "execute_result"
    }
   ],
   "source": [
    "ab_table=ab_table[cols]\n",
    "ab_table['Rouge-L']=ab_table['Rouge-L']*100\n",
    "ab_table"
   ]
  },
  {
   "cell_type": "code",
   "execution_count": 283,
   "id": "90554fba-2e14-4924-8e84-cff477cdde4e",
   "metadata": {},
   "outputs": [],
   "source": [
    "ab_results_latex=ab_table.to_latex(index=False,\n",
    "                 caption='Ablation study results',\n",
    "                 label='tab:ablation_results',\n",
    "                 bold_rows=True,\n",
    "                 float_format=\"%.2f\",\n",
    "                 na_rep='-')\n",
    "                 # column_format='lr',\n",
    "                 # float_format=\"%.2f\","
   ]
  },
  {
   "cell_type": "code",
   "execution_count": 284,
   "id": "32243989-3981-4459-9365-9fa680faf927",
   "metadata": {},
   "outputs": [
    {
     "name": "stdout",
     "output_type": "stream",
     "text": [
      "\\begin{table}\n",
      "\\centering\n",
      "\\caption{Ablation study results}\n",
      "\\label{tab:ablation_results}\n",
      "\\begin{tabular}{lrrrrrrr}\n",
      "\\toprule\n",
      "      Dataset &  Attention heads &  Model dimension &  Modality F1w &  Plane F1w &  Anatomy F1w &  BLEU-4 &  Rouge-L \\\\\n",
      "\\midrule\n",
      "       Medpix &            16.00 &           512.00 &          0.92 &       0.75 &         0.65 &   38.38 &    45.93 \\\\\n",
      "       Medpix &             8.00 &           512.00 &          0.93 &       0.74 &         0.63 &   37.74 &    45.16 \\\\\n",
      "       Medpix &             4.00 &           512.00 &          0.93 &       0.73 &         0.63 &   38.12 &    45.28 \\\\\n",
      "       Medpix &            16.00 &           256.00 &          0.94 &       0.73 &         0.66 &   38.21 &    46.29 \\\\\n",
      "       Medpix &            16.00 &           128.00 &          0.92 &       0.72 &         0.61 &   36.28 &    42.83 \\\\\n",
      "COCO Captions &            16.00 &           512.00 &             - &          - &            - &   26.78 &    21.12 \\\\\n",
      "\\bottomrule\n",
      "\\end{tabular}\n",
      "\\end{table}\n",
      "\n"
     ]
    }
   ],
   "source": [
    "print(ab_results_latex)"
   ]
  },
  {
   "cell_type": "code",
   "execution_count": 286,
   "id": "a28f2eca-9f95-4d9c-88a0-8bc57c1ace77",
   "metadata": {},
   "outputs": [],
   "source": [
    "df=pd.read_csv('../models/study_2/0/0_test_labels.csv')"
   ]
  },
  {
   "cell_type": "code",
   "execution_count": 289,
   "id": "4c01c5f9-f696-4038-b92c-60b094aa7743",
   "metadata": {},
   "outputs": [
    {
     "data": {
      "text/plain": [
       "Index(['Unnamed: 0', 'image', 'predicted_caption', 'true_caption_1',\n",
       "       'true_core_modality', 'true_plane', 'true_anatomy',\n",
       "       'predicted_core_modality', 'predicted_plane', 'predicted_anatomy'],\n",
       "      dtype='object')"
      ]
     },
     "execution_count": 289,
     "metadata": {},
     "output_type": "execute_result"
    }
   ],
   "source": [
    "df.columns"
   ]
  },
  {
   "cell_type": "code",
   "execution_count": 311,
   "id": "2e60d1d1-eb43-4aaa-8d0c-225d8d2ea049",
   "metadata": {},
   "outputs": [
    {
     "data": {
      "text/plain": [
       "['ct', 'mr', 'xr', 'us', 'an', 'pet/nm', 'bas', 'int', 'ugi', 'gr', 'he']"
      ]
     },
     "execution_count": 311,
     "metadata": {},
     "output_type": "execute_result"
    }
   ],
   "source": []
  },
  {
   "cell_type": "code",
   "execution_count": 359,
   "id": "bd55c9dd-d40b-45f6-a410-80618d939862",
   "metadata": {},
   "outputs": [],
   "source": [
    "def plot_conf_matrix(y_true,y_pred,\n",
    "                     color,save_path,\n",
    "                     concept):\n",
    "    labels= y_true.unique()\n",
    "    cm=confusion_matrix(y_true,y_pred,labels=labels)\n",
    "    disp=ConfusionMatrixDisplay(confusion_matrix=cm,display_labels=labels)\n",
    "    disp.plot(cmap=sns.light_palette(color, reverse=False, as_cmap=True))\n",
    "    plt.xlabel('Predicted '+concept)\n",
    "    plt.ylabel('True'+concept)\n",
    "    plt.xticks(rotation = 90)\n",
    "    disp.figure_.savefig(save_path,dpi=200,bbox_inches='tight')"
   ]
  },
  {
   "cell_type": "code",
   "execution_count": 369,
   "id": "bdb79fdf-108b-402b-9ab1-f329b356dcc9",
   "metadata": {},
   "outputs": [
    {
     "data": {
      "image/png": "[encoded data removed]",
      "text/plain": [
       "<Figure size 432x288 with 2 Axes>"
      ]
     },
     "metadata": {
      "needs_background": "light"
     },
     "output_type": "display_data"
    },
    {
     "data": {
      "image/png": "[encoded data removed]",
      "text/plain": [
       "<Figure size 432x288 with 2 Axes>"
      ]
     },
     "metadata": {
      "needs_background": "light"
     },
     "output_type": "display_data"
    },
    {
     "data": {
      "image/png": "[encoded data removed]",
      "text/plain": [
       "<Figure size 432x288 with 2 Axes>"
      ]
     },
     "metadata": {
      "needs_background": "light"
     },
     "output_type": "display_data"
    }
   ],
   "source": [
    "from sklearn.metrics import confusion_matrix, ConfusionMatrixDisplay\n",
    "import seaborn as sns\n",
    "import matplotlib.pyplot as plt\n",
    "# For core modality\n",
    "y_true = df['true_core_modality']\n",
    "y_pred = df['predicted_core_modality']\n",
    "color=\"#1071e5\"\n",
    "plot_conf_matrix(y_true,y_pred,\n",
    "                 color,save_path='cm_cm.png',\n",
    "                 concept = 'modality'\n",
    "                )\n",
    "# For plane\n",
    "y_true = df['true_plane']\n",
    "y_pred = df['predicted_plane']\n",
    "color=\"#008a0e\"\n",
    "plot_conf_matrix(y_true,y_pred,\n",
    "                 color,save_path='cm_pl.png',\n",
    "                 concept = 'plane'\n",
    "                )\n",
    "\n",
    "# For anatomy\n",
    "y_true = df['true_anatomy']\n",
    "y_pred = df['predicted_anatomy']\n",
    "color=\"#ba23f6\"\n",
    "plot_conf_matrix(y_true,y_pred,\n",
    "                 color,save_path='cm_an.png',\n",
    "                 concept = 'plane'\n",
    "                )\n",
    "\n"
   ]
  },
  {
   "cell_type": "code",
   "execution_count": 317,
   "id": "b5db4272-64aa-4af4-b30a-474c8ee7ade1",
   "metadata": {},
   "outputs": [
    {
     "data": {
      "image/png": "[encoded data removed]",
      "text/plain": [
       "<Figure size 432x288 with 2 Axes>"
      ]
     },
     "execution_count": 317,
     "metadata": {},
     "output_type": "execute_result"
    }
   ],
   "source": [
    "disp.figure_.savefig()"
   ]
  }
 ],
 "metadata": {
  "environment": {
   "kernel": "myenv",
   "name": "tf2-gpu.2-8.m102",
   "type": "gcloud",
   "uri": "gcr.io/deeplearning-platform-release/tf2-gpu.2-8:m102"
  },
  "kernelspec": {
   "display_name": "myenv",
   "language": "python",
   "name": "myenv"
  },
  "language_info": {
   "codemirror_mode": {
    "name": "ipython",
    "version": 3
   },
   "file_extension": ".py",
   "mimetype": "text/x-python",
   "name": "python",
   "nbconvert_exporter": "python",
   "pygments_lexer": "ipython3",
   "version": "3.7.12"
  }
 },
 "nbformat": 4,
 "nbformat_minor": 5
}
