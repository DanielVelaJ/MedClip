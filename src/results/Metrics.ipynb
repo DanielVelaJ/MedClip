{
 "cells": [
  {
   "cell_type": "code",
   "execution_count": 7,
   "id": "2f18d157-8c96-44ba-a63a-61b0390cd4ff",
   "metadata": {},
   "outputs": [
    {
     "ename": "ModuleNotFoundError",
     "evalue": "No module named 'sklearn'",
     "output_type": "error",
     "traceback": [
      "\u001b[0;31m---------------------------------------------------------------------------\u001b[0m",
      "\u001b[0;31mModuleNotFoundError\u001b[0m                       Traceback (most recent call last)",
      "\u001b[0;32m/tmp/ipykernel_26053/402149236.py\u001b[0m in \u001b[0;36m<module>\u001b[0;34m\u001b[0m\n\u001b[1;32m      1\u001b[0m \u001b[0;32mimport\u001b[0m \u001b[0mpandas\u001b[0m \u001b[0;32mas\u001b[0m \u001b[0mpd\u001b[0m\u001b[0;34m\u001b[0m\u001b[0;34m\u001b[0m\u001b[0m\n\u001b[1;32m      2\u001b[0m \u001b[0;32mfrom\u001b[0m \u001b[0mdatasets\u001b[0m \u001b[0;32mimport\u001b[0m \u001b[0mload_metric\u001b[0m\u001b[0;34m\u001b[0m\u001b[0;34m\u001b[0m\u001b[0m\n\u001b[0;32m----> 3\u001b[0;31m \u001b[0;32mimport\u001b[0m \u001b[0msklearn\u001b[0m\u001b[0;34m\u001b[0m\u001b[0;34m\u001b[0m\u001b[0m\n\u001b[0m",
      "\u001b[0;31mModuleNotFoundError\u001b[0m: No module named 'sklearn'"
     ]
    }
   ],
   "source": [
    "import pandas as pd\n",
    "from datasets import load_metric\n",
    "import sklearn"
   ]
  },
  {
   "cell_type": "markdown",
   "id": "a715c4ae-c217-43c3-990a-b6fa13e08625",
   "metadata": {},
   "source": [
    "# Sacrebleu metric\n",
    "Notice that it is evaluated from 0 to 100"
   ]
  },
  {
   "cell_type": "code",
   "execution_count": 3,
   "id": "e3808823-f37a-450c-86b8-ced811cf1945",
   "metadata": {},
   "outputs": [
    {
     "data": {
      "text/plain": [
       "{'score': 1.9246881077111113,\n",
       " 'counts': [19397, 5977, 874, 405],\n",
       " 'totals': [69714, 68216, 66718, 65220],\n",
       " 'precisions': [27.823679605244283,\n",
       "  8.761874047144365,\n",
       "  1.3099913066938458,\n",
       "  0.6209751609935602],\n",
       " 'bp': 0.5128871401180944,\n",
       " 'sys_len': 69714,\n",
       " 'ref_len': 116262}"
      ]
     },
     "execution_count": 3,
     "metadata": {},
     "output_type": "execute_result"
    }
   ],
   "source": [
    "df=pd.read_csv('../../results/20221110-204950/results_500.csv')\n",
    "predictions=df['predicted'].to_list()\n",
    "references = df['true'].to_list()\n",
    "references = [[r] for r in references]\n",
    "sacrebleu = load_metric('sacrebleu')\n",
    "sacrebleu_score=sacrebleu.compute(predictions=predictions,\n",
    "                  references=references)\n",
    "\n",
    "sacrebleu_score"
   ]
  },
  {
   "cell_type": "markdown",
   "id": "7f69fe39-a373-406e-aca1-0f82133f8b76",
   "metadata": {},
   "source": [
    "# Rouge metric\n",
    "mesured from 0 to 1"
   ]
  },
  {
   "cell_type": "code",
   "execution_count": 4,
   "id": "004c03e4-b963-44ff-80c8-f5401e1542ea",
   "metadata": {},
   "outputs": [],
   "source": [
    "\n",
    "# rouge_score=rouge_score['rougeL'].mid.fmeasure\n",
    "# rouge_score"
   ]
  },
  {
   "cell_type": "code",
   "execution_count": 5,
   "id": "5c2f3338-4846-4ab9-8d4e-78cae02243e3",
   "metadata": {},
   "outputs": [
    {
     "data": {
      "text/plain": [
       "{'rouge1': AggregateScore(low=Score(precision=0.34573060582389437, recall=0.2926301522184428, fmeasure=0.2951262707956711), mid=Score(precision=0.35268869032206285, recall=0.29999424489744037, fmeasure=0.30099619958805546), high=Score(precision=0.3589865729301042, recall=0.30733944167267585, fmeasure=0.3065929577149314)),\n",
       " 'rouge2': AggregateScore(low=Score(precision=0.17369370363465658, recall=0.15435168196522273, fmeasure=0.15244448052190127), mid=Score(precision=0.18020405035835427, recall=0.1608625186455238, fmeasure=0.15866198050071878), high=Score(precision=0.18712375280283175, recall=0.16833561057289748, fmeasure=0.1651440694571553)),\n",
       " 'rougeL': AggregateScore(low=Score(precision=0.3095824388662911, recall=0.26586819627674474, fmeasure=0.266489976755001), mid=Score(precision=0.31629423158421666, recall=0.2731877203750613, fmeasure=0.27248249048660345), high=Score(precision=0.322746306638163, recall=0.280357918696451, fmeasure=0.278568761118926)),\n",
       " 'rougeLsum': AggregateScore(low=Score(precision=0.31587704108054715, recall=0.2704759458211082, fmeasure=0.27110102963432386), mid=Score(precision=0.32232117866808574, recall=0.2768762668957805, fmeasure=0.27681789398187173), high=Score(precision=0.3283114436365447, recall=0.28431912057163644, fmeasure=0.2826936119491282))}"
      ]
     },
     "execution_count": 5,
     "metadata": {},
     "output_type": "execute_result"
    }
   ],
   "source": [
    "rouge_score\n"
   ]
  },
  {
   "cell_type": "code",
   "execution_count": 13,
   "id": "23958360-59a1-4d9b-bc2f-00ee4ee5b32a",
   "metadata": {},
   "outputs": [],
   "source": [
    "predicted=[['Aba a ta']]\n",
    "true=[['aba a Ta ']]\n",
    "\n",
    "rouge_score=rouge.compute(predictions=predicted,references=true)"
   ]
  },
  {
   "cell_type": "code",
   "execution_count": 14,
   "id": "959be597-72ab-4f15-be35-d284bd7c7e80",
   "metadata": {},
   "outputs": [
    {
     "data": {
      "text/plain": [
       "AggregateScore(low=Score(precision=1.0, recall=1.0, fmeasure=1.0), mid=Score(precision=1.0, recall=1.0, fmeasure=1.0), high=Score(precision=1.0, recall=1.0, fmeasure=1.0))"
      ]
     },
     "execution_count": 14,
     "metadata": {},
     "output_type": "execute_result"
    }
   ],
   "source": [
    "rouge_score['rouge1']"
   ]
  }
 ],
 "metadata": {
  "environment": {
   "kernel": "myenv",
   "name": "tf2-gpu.2-8.m98",
   "type": "gcloud",
   "uri": "gcr.io/deeplearning-platform-release/tf2-gpu.2-8:m98"
  },
  "kernelspec": {
   "display_name": "myenv",
   "language": "python",
   "name": "myenv"
  },
  "language_info": {
   "codemirror_mode": {
    "name": "ipython",
    "version": 3
   },
   "file_extension": ".py",
   "mimetype": "text/x-python",
   "name": "python",
   "nbconvert_exporter": "python",
   "pygments_lexer": "ipython3",
   "version": "3.7.12"
  }
 },
 "nbformat": 4,
 "nbformat_minor": 5
}
