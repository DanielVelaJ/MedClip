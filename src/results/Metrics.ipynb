{
 "cells": [
  {
   "cell_type": "code",
   "execution_count": 9,
   "id": "2f18d157-8c96-44ba-a63a-61b0390cd4ff",
   "metadata": {},
   "outputs": [
    {
     "name": "stderr",
     "output_type": "stream",
     "text": [
      "/home/jupyter/MedClip/src/venv/lib/python3.7/site-packages/tqdm/auto.py:22: TqdmWarning: IProgress not found. Please update jupyter and ipywidgets. See https://ipywidgets.readthedocs.io/en/stable/user_install.html\n",
      "  from .autonotebook import tqdm as notebook_tqdm\n"
     ]
    }
   ],
   "source": [
    "import pandas as pd\n",
    "from datasets import load_metric"
   ]
  },
  {
   "cell_type": "markdown",
   "id": "a715c4ae-c217-43c3-990a-b6fa13e08625",
   "metadata": {},
   "source": [
    "# Sacrebleu metric\n",
    "Notice that it is evaluated from 0 to 100"
   ]
  },
  {
   "cell_type": "code",
   "execution_count": 61,
   "id": "e3808823-f37a-450c-86b8-ced811cf1945",
   "metadata": {},
   "outputs": [
    {
     "data": {
      "text/plain": [
       "0.7894624475334979"
      ]
     },
     "execution_count": 61,
     "metadata": {},
     "output_type": "execute_result"
    }
   ],
   "source": [
    "df=pd.read_csv('../../results/20221025-205214/results.csv')\n",
    "predictions=df['predicted'].to_list()\n",
    "references = df['true'].to_list()\n",
    "references = [[r] for r in references]\n",
    "sacrebleu = load_metric('sacrebleu')\n",
    "sacrebleu_score=sacrebleu.compute(predictions=predictions,\n",
    "                  references=references)\n",
    "sacrebleu_score=sacrebleu_score['score']\n",
    "sacrebleu_score"
   ]
  },
  {
   "cell_type": "markdown",
   "id": "7f69fe39-a373-406e-aca1-0f82133f8b76",
   "metadata": {},
   "source": [
    "# Rouge metric\n",
    "mesured from 0 to 1"
   ]
  },
  {
   "cell_type": "code",
   "execution_count": 62,
   "id": "004c03e4-b963-44ff-80c8-f5401e1542ea",
   "metadata": {},
   "outputs": [
    {
     "data": {
      "text/plain": [
       "0.2629536733337621"
      ]
     },
     "execution_count": 62,
     "metadata": {},
     "output_type": "execute_result"
    }
   ],
   "source": [
    "rouge=load_metric('rouge')\n",
    "rouge_score=rouge.compute(predictions=predictions,references=references)\n",
    "rouge_score=rouge_score['rougeL'].mid.fmeasure\n",
    "rouge_score"
   ]
  }
 ],
 "metadata": {
  "environment": {
   "kernel": "myenv",
   "name": "tf2-gpu.2-8.m98",
   "type": "gcloud",
   "uri": "gcr.io/deeplearning-platform-release/tf2-gpu.2-8:m98"
  },
  "kernelspec": {
   "display_name": "myenv",
   "language": "python",
   "name": "myenv"
  },
  "language_info": {
   "codemirror_mode": {
    "name": "ipython",
    "version": 3
   },
   "file_extension": ".py",
   "mimetype": "text/x-python",
   "name": "python",
   "nbconvert_exporter": "python",
   "pygments_lexer": "ipython3",
   "version": "3.7.12"
  }
 },
 "nbformat": 4,
 "nbformat_minor": 5
}
