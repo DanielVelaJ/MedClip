{
 "cells": [
  {
   "cell_type": "code",
   "execution_count": 5,
   "id": "13b8c51c-9525-40bc-abe3-d92fd87a972f",
   "metadata": {},
   "outputs": [
    {
     "name": "stderr",
     "output_type": "stream",
     "text": [
      "/home/jupyter/MedClip/src/venv/lib/python3.7/site-packages/tqdm/auto.py:22: TqdmWarning: IProgress not found. Please update jupyter and ipywidgets. See https://ipywidgets.readthedocs.io/en/stable/user_install.html\n",
      "  from .autonotebook import tqdm as notebook_tqdm\n"
     ]
    }
   ],
   "source": [
    "import pandas as pd\n",
    "import numpy as np\n",
    "import re\n",
    "from sklearn.metrics import confusion_matrix, ConfusionMatrixDisplay\n",
    "import sklearn\n",
    "from datasets import load_metric\n"
   ]
  },
  {
   "cell_type": "markdown",
   "id": "52d078b6-d6ed-4f81-9095-b9ec2e5b6e06",
   "metadata": {},
   "source": [
    "# Confusion matrixes"
   ]
  },
  {
   "cell_type": "code",
   "execution_count": null,
   "id": "90bd6540-19e9-4aee-a6d1-5d41604c9243",
   "metadata": {},
   "outputs": [],
   "source": [
    "model_name='20230120-024256'\n",
    "results_path='../../results/'+model_name+'/results_'+model_name+'.csv'\n",
    "df=pd.read_csv(results_path)"
   ]
  },
  {
   "cell_type": "code",
   "execution_count": null,
   "id": "876f3b24-ff4c-45e2-b68b-381151ce6d4e",
   "metadata": {},
   "outputs": [],
   "source": [
    "def get_label(caption,label):\n",
    "    \"\"\"Extracts the label indicated by the string 'label'.\n",
    "    from the caption. \n",
    "    \"\"\"\n",
    "    rgx={'core_modality':r'core modality:([ a-z/0-9]+)modality',\n",
    "         'plane': r'plane:([ a-z/0-9]+)anatomy',\n",
    "         'anatomy':r'anatomy:([ a-z/0-9]+)findings'}\n",
    "    caption=caption.lower() # lowercase\n",
    "    # find regex match\n",
    "    match=re.search(rgx[label],caption)\n",
    "    if match is None:\n",
    "    # If no match is found return 'N/A'\n",
    "        return 'N/A'    \n",
    "    label=match.group(1) \n",
    "    label=label.strip() # strip white spaces\n",
    "    return label\n",
    "\n"
   ]
  },
  {
   "cell_type": "code",
   "execution_count": null,
   "id": "1b54f950-c2e3-415b-ae81-e1af7bef638c",
   "metadata": {},
   "outputs": [],
   "source": [
    "# Extract true modality, plane and anatomy labels--------------------------------------- \n",
    "# extract true core modality\n",
    "df['true_core_modality']=df['true_captions'].apply(lambda c:get_label(c,'core_modality'))\n",
    "# extract true plane\n",
    "df['true_plane']=df['true_captions'].apply(lambda c:get_label(c,'plane')) \n",
    "# extract true anatomy\n",
    "df['true_anatomy']=df['true_captions'].apply(lambda c:get_label(c,'anatomy')) \n",
    "\n",
    "# Extract predicted modality, plane and anatomy labels--------------------------------------- \n",
    "# extract true core modality\n",
    "df['predicted_core_modality']=df['predicted_captions'].apply(lambda c:get_label(c,'core_modality'))\n",
    "# extract true plane\n",
    "df['predicted_plane']=df['predicted_captions'].apply(lambda c:get_label(c,'plane')) \n",
    "# extract true anatomy\n",
    "df['predicted_anatomy']=df['predicted_captions'].apply(lambda c:get_label(c,'anatomy')) "
   ]
  },
  {
   "cell_type": "code",
   "execution_count": null,
   "id": "b5648d26-fef5-4554-93b7-e586c8dd28a7",
   "metadata": {},
   "outputs": [],
   "source": [
    "labels_savepath='../../results/'+model_name+'/labels_'+model_name+'.csv'\n",
    "df.to_csv(labels_savepath)"
   ]
  },
  {
   "cell_type": "code",
   "execution_count": null,
   "id": "23764c0b-ffbd-43a2-a38f-98959c4aa515",
   "metadata": {},
   "outputs": [],
   "source": [
    "def plot_conf_matrix(y_true,y_pred,path):\n",
    "    \"\"\"Plots and saves the confusion matrix\"\"\"\n",
    "    uniques = list(set(np.concatenate([y_true,y_pred])))\n",
    "    cm = confusion_matrix(y_true, y_pred, labels=uniques)\n",
    "    disp = ConfusionMatrixDisplay(confusion_matrix=cm,\n",
    "                              display_labels=uniques)\n",
    "    \n",
    "    fig=disp.plot(xticks_rotation='vertical').figure_\n",
    "    fig.savefig(path, dpi='figure', format=None, metadata=None,\n",
    "        bbox_inches='tight', pad_inches=0.3,\n",
    "        facecolor='auto', edgecolor='auto',\n",
    "        backend=None)"
   ]
  },
  {
   "cell_type": "code",
   "execution_count": null,
   "id": "1f1c20bc-5a2b-4f2a-b1c7-d2b7389755c5",
   "metadata": {},
   "outputs": [],
   "source": [
    "fig_savepath='../../results/'+model_name+'/cm_xx_'+model_name+'.png'\n",
    "\n",
    "plot_conf_matrix(y_true=df['true_core_modality'],\n",
    "                 y_pred=df['predicted_core_modality'],\n",
    "                 path=fig_savepath.replace('xx','cm'))\n",
    "\n",
    "plot_conf_matrix(y_true=df['true_plane'],\n",
    "                 y_pred=df['predicted_plane'],\n",
    "                 path=fig_savepath.replace('xx','pl'))\n",
    "\n",
    "plot_conf_matrix(y_true=df['true_anatomy'],\n",
    "                 y_pred=df['predicted_anatomy'],\n",
    "                 path=fig_savepath.replace('xx','an'))\n",
    "\n"
   ]
  },
  {
   "cell_type": "markdown",
   "id": "dae806c6-6150-4033-b129-e44fd4ae7f3d",
   "metadata": {},
   "source": [
    "# Quantitative scores"
   ]
  },
  {
   "cell_type": "markdown",
   "id": "11aec37b-c581-4121-a702-6eaf8f3c13f7",
   "metadata": {},
   "source": [
    "## Classification scores"
   ]
  },
  {
   "cell_type": "code",
   "execution_count": 41,
   "id": "a0224c26-b826-48af-838a-a80ee080ecfc",
   "metadata": {},
   "outputs": [
    {
     "ename": "KeyError",
     "evalue": "'true_core_modality'",
     "output_type": "error",
     "traceback": [
      "\u001b[0;31m---------------------------------------------------------------------------\u001b[0m",
      "\u001b[0;31mKeyError\u001b[0m                                  Traceback (most recent call last)",
      "\u001b[0;32m~/MedClip/src/venv/lib/python3.7/site-packages/pandas/core/indexes/base.py\u001b[0m in \u001b[0;36mget_loc\u001b[0;34m(self, key, method, tolerance)\u001b[0m\n\u001b[1;32m   3360\u001b[0m             \u001b[0;32mtry\u001b[0m\u001b[0;34m:\u001b[0m\u001b[0;34m\u001b[0m\u001b[0;34m\u001b[0m\u001b[0m\n\u001b[0;32m-> 3361\u001b[0;31m                 \u001b[0;32mreturn\u001b[0m \u001b[0mself\u001b[0m\u001b[0;34m.\u001b[0m\u001b[0m_engine\u001b[0m\u001b[0;34m.\u001b[0m\u001b[0mget_loc\u001b[0m\u001b[0;34m(\u001b[0m\u001b[0mcasted_key\u001b[0m\u001b[0;34m)\u001b[0m\u001b[0;34m\u001b[0m\u001b[0;34m\u001b[0m\u001b[0m\n\u001b[0m\u001b[1;32m   3362\u001b[0m             \u001b[0;32mexcept\u001b[0m \u001b[0mKeyError\u001b[0m \u001b[0;32mas\u001b[0m \u001b[0merr\u001b[0m\u001b[0;34m:\u001b[0m\u001b[0;34m\u001b[0m\u001b[0;34m\u001b[0m\u001b[0m\n",
      "\u001b[0;32m~/MedClip/src/venv/lib/python3.7/site-packages/pandas/_libs/index.pyx\u001b[0m in \u001b[0;36mpandas._libs.index.IndexEngine.get_loc\u001b[0;34m()\u001b[0m\n",
      "\u001b[0;32m~/MedClip/src/venv/lib/python3.7/site-packages/pandas/_libs/index.pyx\u001b[0m in \u001b[0;36mpandas._libs.index.IndexEngine.get_loc\u001b[0;34m()\u001b[0m\n",
      "\u001b[0;32mpandas/_libs/hashtable_class_helper.pxi\u001b[0m in \u001b[0;36mpandas._libs.hashtable.PyObjectHashTable.get_item\u001b[0;34m()\u001b[0m\n",
      "\u001b[0;32mpandas/_libs/hashtable_class_helper.pxi\u001b[0m in \u001b[0;36mpandas._libs.hashtable.PyObjectHashTable.get_item\u001b[0;34m()\u001b[0m\n",
      "\u001b[0;31mKeyError\u001b[0m: 'true_core_modality'",
      "\nThe above exception was the direct cause of the following exception:\n",
      "\u001b[0;31mKeyError\u001b[0m                                  Traceback (most recent call last)",
      "\u001b[0;32m/tmp/ipykernel_31087/4189269088.py\u001b[0m in \u001b[0;36m<module>\u001b[0;34m\u001b[0m\n\u001b[1;32m      1\u001b[0m \u001b[0;31m# Core Modality f1 weighted\u001b[0m\u001b[0;34m\u001b[0m\u001b[0;34m\u001b[0m\u001b[0;34m\u001b[0m\u001b[0m\n\u001b[0;32m----> 2\u001b[0;31m \u001b[0my_true\u001b[0m\u001b[0;34m=\u001b[0m\u001b[0mdf\u001b[0m\u001b[0;34m[\u001b[0m\u001b[0;34m'true_core_modality'\u001b[0m\u001b[0;34m]\u001b[0m\u001b[0;34m\u001b[0m\u001b[0;34m\u001b[0m\u001b[0m\n\u001b[0m\u001b[1;32m      3\u001b[0m \u001b[0my_pred\u001b[0m\u001b[0;34m=\u001b[0m\u001b[0mdf\u001b[0m\u001b[0;34m[\u001b[0m\u001b[0;34m'predicted_core_modality'\u001b[0m\u001b[0;34m]\u001b[0m\u001b[0;34m\u001b[0m\u001b[0;34m\u001b[0m\u001b[0m\n\u001b[1;32m      4\u001b[0m \u001b[0mf1w_cm\u001b[0m\u001b[0;34m=\u001b[0m\u001b[0msklearn\u001b[0m\u001b[0;34m.\u001b[0m\u001b[0mmetrics\u001b[0m\u001b[0;34m.\u001b[0m\u001b[0mf1_score\u001b[0m\u001b[0;34m(\u001b[0m\u001b[0my_true\u001b[0m\u001b[0;34m,\u001b[0m \u001b[0my_pred\u001b[0m\u001b[0;34m,\u001b[0m\u001b[0maverage\u001b[0m\u001b[0;34m=\u001b[0m\u001b[0;34m'weighted'\u001b[0m\u001b[0;34m)\u001b[0m\u001b[0;34m\u001b[0m\u001b[0;34m\u001b[0m\u001b[0m\n\u001b[1;32m      5\u001b[0m \u001b[0;34m\u001b[0m\u001b[0m\n",
      "\u001b[0;32m~/MedClip/src/venv/lib/python3.7/site-packages/pandas/core/frame.py\u001b[0m in \u001b[0;36m__getitem__\u001b[0;34m(self, key)\u001b[0m\n\u001b[1;32m   3456\u001b[0m             \u001b[0;32mif\u001b[0m \u001b[0mself\u001b[0m\u001b[0;34m.\u001b[0m\u001b[0mcolumns\u001b[0m\u001b[0;34m.\u001b[0m\u001b[0mnlevels\u001b[0m \u001b[0;34m>\u001b[0m \u001b[0;36m1\u001b[0m\u001b[0;34m:\u001b[0m\u001b[0;34m\u001b[0m\u001b[0;34m\u001b[0m\u001b[0m\n\u001b[1;32m   3457\u001b[0m                 \u001b[0;32mreturn\u001b[0m \u001b[0mself\u001b[0m\u001b[0;34m.\u001b[0m\u001b[0m_getitem_multilevel\u001b[0m\u001b[0;34m(\u001b[0m\u001b[0mkey\u001b[0m\u001b[0;34m)\u001b[0m\u001b[0;34m\u001b[0m\u001b[0;34m\u001b[0m\u001b[0m\n\u001b[0;32m-> 3458\u001b[0;31m             \u001b[0mindexer\u001b[0m \u001b[0;34m=\u001b[0m \u001b[0mself\u001b[0m\u001b[0;34m.\u001b[0m\u001b[0mcolumns\u001b[0m\u001b[0;34m.\u001b[0m\u001b[0mget_loc\u001b[0m\u001b[0;34m(\u001b[0m\u001b[0mkey\u001b[0m\u001b[0;34m)\u001b[0m\u001b[0;34m\u001b[0m\u001b[0;34m\u001b[0m\u001b[0m\n\u001b[0m\u001b[1;32m   3459\u001b[0m             \u001b[0;32mif\u001b[0m \u001b[0mis_integer\u001b[0m\u001b[0;34m(\u001b[0m\u001b[0mindexer\u001b[0m\u001b[0;34m)\u001b[0m\u001b[0;34m:\u001b[0m\u001b[0;34m\u001b[0m\u001b[0;34m\u001b[0m\u001b[0m\n\u001b[1;32m   3460\u001b[0m                 \u001b[0mindexer\u001b[0m \u001b[0;34m=\u001b[0m \u001b[0;34m[\u001b[0m\u001b[0mindexer\u001b[0m\u001b[0;34m]\u001b[0m\u001b[0;34m\u001b[0m\u001b[0;34m\u001b[0m\u001b[0m\n",
      "\u001b[0;32m~/MedClip/src/venv/lib/python3.7/site-packages/pandas/core/indexes/base.py\u001b[0m in \u001b[0;36mget_loc\u001b[0;34m(self, key, method, tolerance)\u001b[0m\n\u001b[1;32m   3361\u001b[0m                 \u001b[0;32mreturn\u001b[0m \u001b[0mself\u001b[0m\u001b[0;34m.\u001b[0m\u001b[0m_engine\u001b[0m\u001b[0;34m.\u001b[0m\u001b[0mget_loc\u001b[0m\u001b[0;34m(\u001b[0m\u001b[0mcasted_key\u001b[0m\u001b[0;34m)\u001b[0m\u001b[0;34m\u001b[0m\u001b[0;34m\u001b[0m\u001b[0m\n\u001b[1;32m   3362\u001b[0m             \u001b[0;32mexcept\u001b[0m \u001b[0mKeyError\u001b[0m \u001b[0;32mas\u001b[0m \u001b[0merr\u001b[0m\u001b[0;34m:\u001b[0m\u001b[0;34m\u001b[0m\u001b[0;34m\u001b[0m\u001b[0m\n\u001b[0;32m-> 3363\u001b[0;31m                 \u001b[0;32mraise\u001b[0m \u001b[0mKeyError\u001b[0m\u001b[0;34m(\u001b[0m\u001b[0mkey\u001b[0m\u001b[0;34m)\u001b[0m \u001b[0;32mfrom\u001b[0m \u001b[0merr\u001b[0m\u001b[0;34m\u001b[0m\u001b[0;34m\u001b[0m\u001b[0m\n\u001b[0m\u001b[1;32m   3364\u001b[0m \u001b[0;34m\u001b[0m\u001b[0m\n\u001b[1;32m   3365\u001b[0m         \u001b[0;32mif\u001b[0m \u001b[0mis_scalar\u001b[0m\u001b[0;34m(\u001b[0m\u001b[0mkey\u001b[0m\u001b[0;34m)\u001b[0m \u001b[0;32mand\u001b[0m \u001b[0misna\u001b[0m\u001b[0;34m(\u001b[0m\u001b[0mkey\u001b[0m\u001b[0;34m)\u001b[0m \u001b[0;32mand\u001b[0m \u001b[0;32mnot\u001b[0m \u001b[0mself\u001b[0m\u001b[0;34m.\u001b[0m\u001b[0mhasnans\u001b[0m\u001b[0;34m:\u001b[0m\u001b[0;34m\u001b[0m\u001b[0;34m\u001b[0m\u001b[0m\n",
      "\u001b[0;31mKeyError\u001b[0m: 'true_core_modality'"
     ]
    }
   ],
   "source": [
    "# Core Modality f1 weighted\n",
    "y_true=df['true_core_modality']\n",
    "y_pred=df['predicted_core_modality']\n",
    "f1w_cm=sklearn.metrics.f1_score(y_true, y_pred,average='weighted')\n",
    "\n",
    "# Plane f1 weighted\n",
    "y_true=df['true_plane']\n",
    "y_pred=df['predicted_plane']\n",
    "f1w_pl=sklearn.metrics.f1_score(y_true, y_pred,average='weighted')\n",
    "\n",
    "# Anatomy f1 weighted\n",
    "y_true=df['true_anatomy']\n",
    "y_pred=df['predicted_anatomy']\n",
    "f1w_an=sklearn.metrics.f1_score(y_true, y_pred,average='weighted') \n",
    "\n",
    "print(f'core modality: {f1w_cm:2.3f}')\n",
    "print(f'plane: {f1w_pl:2.3f}')\n",
    "print(f'anatomy: {f1w_an:2.3f}')"
   ]
  },
  {
   "cell_type": "markdown",
   "id": "fc11f132-3828-4b1a-81e7-ee5f9e721c83",
   "metadata": {},
   "source": [
    "## Sacrebleu score"
   ]
  },
  {
   "cell_type": "code",
   "execution_count": 42,
   "id": "aa1d41c2-c404-4996-9ca4-90c3d40534e7",
   "metadata": {},
   "outputs": [
    {
     "data": {
      "text/plain": [
       "{'score': 31.143870626415477,\n",
       " 'counts': [197, 104, 51, 26],\n",
       " 'totals': [271, 246, 221, 196],\n",
       " 'precisions': [72.69372693726937,\n",
       "  42.27642276422764,\n",
       "  23.076923076923077,\n",
       "  13.26530612244898],\n",
       " 'bp': 1.0,\n",
       " 'sys_len': 271,\n",
       " 'ref_len': 267}"
      ]
     },
     "execution_count": 42,
     "metadata": {},
     "output_type": "execute_result"
    }
   ],
   "source": [
    "results_path='../../results/20230124-060631/results_20230124-060631.csv'\n",
    "df=pd.read_csv(results_path)\n",
    "true_caption_cols=[]\n",
    "\n",
    "# Obtain titles of columns refering to true captions. \n",
    "for col_name in list(df.columns):\n",
    "    if 'true_caption' in col_name:\n",
    "        true_caption_cols.append(col_name)\n",
    "        \n",
    "def extract_true_captions_list(row,references,true_caption_cols):\n",
    "    \"\"\"To be used as map function through df.apply() in a \n",
    "    results df obtain from a results.csv file. \n",
    "    It iterates over rows of the df and makes \n",
    "    a list of lists with all reference sentences in a single row. \n",
    "    The resulting list is the \"references\" parameter. \n",
    "    \"\"\"\n",
    "    ref_row=[] # make a list of true captions for a single row\n",
    "    for col in true_caption_cols:\n",
    "    # for every column that contains true captions.\n",
    "        ref_row.append(row[col]) # Append it to this row's list\n",
    "    references.append(ref_row) # Append the row list of captions to records. \n",
    "    return None\n",
    "\n",
    "# Create empty references list. \n",
    "references=[]\n",
    "# Fill references list.\n",
    "df.apply(lambda row:extract_true_captions_list(row,references,true_caption_cols),axis=1)\n",
    "predictions=df['predicted_captions'].to_list() # Fill predictions list\n",
    "\n",
    "# compute sacrebleu metric\n",
    "sacrebleu = load_metric('sacrebleu')\n",
    "sacrebleu_score=sacrebleu.compute(predictions=predictions, references=references)\n",
    "\n",
    "sacrebleu_score"
   ]
  },
  {
   "cell_type": "markdown",
   "id": "23d840cc-af7a-415e-9aa4-694bdcdf2c69",
   "metadata": {},
   "source": [
    "# Rouge Score\n",
    "    "
   ]
  },
  {
   "cell_type": "code",
   "execution_count": 44,
   "id": "6ce6d395-9e44-4028-9899-23f4279ce80f",
   "metadata": {},
   "outputs": [
    {
     "data": {
      "text/plain": [
       "{'rouge1': AggregateScore(low=Score(precision=0.6898924242424241, recall=0.1294223124856389, fmeasure=0.21757238652019723), mid=Score(precision=0.754121212121212, recall=0.14256209546629506, fmeasure=0.23904744976566936), high=Score(precision=0.8139242424242424, recall=0.15746251986047, fmeasure=0.2618547891544109)),\n",
       " 'rouge2': AggregateScore(low=Score(precision=0.3411306998556998, recall=0.05993640245028824, fmeasure=0.1018080445512604), mid=Score(precision=0.4446810966810967, recall=0.07625699677353068, fmeasure=0.12957729349058653), high=Score(precision=0.5536443001443002, recall=0.09341542863914934, fmeasure=0.1592912272587512)),\n",
       " 'rougeL': AggregateScore(low=Score(precision=0.6345136363636363, recall=0.11854956693288969, fmeasure=0.1994236815483046), mid=Score(precision=0.6943333333333332, recall=0.1311301069224129, fmeasure=0.21961716234541218), high=Score(precision=0.7589712121212122, recall=0.1436058336189333, fmeasure=0.23971242107768667)),\n",
       " 'rougeLsum': AggregateScore(low=Score(precision=0.6301727272727272, recall=0.11794024463176456, fmeasure=0.1980641432497207), mid=Score(precision=0.6943939393939395, recall=0.130969017745954, fmeasure=0.21925055954470862), high=Score(precision=0.7574015151515151, recall=0.14330611154564454, fmeasure=0.23902310800799126))}"
      ]
     },
     "execution_count": 44,
     "metadata": {},
     "output_type": "execute_result"
    }
   ],
   "source": [
    "rouge=load_metric('rouge')\n",
    "rouge_score=rouge.compute(predictions=predictions,references=references)\n",
    "rouge_score"
   ]
  }
 ],
 "metadata": {
  "environment": {
   "kernel": "myenv2",
   "name": "tf2-gpu.2-8.m98",
   "type": "gcloud",
   "uri": "gcr.io/deeplearning-platform-release/tf2-gpu.2-8:m98"
  },
  "kernelspec": {
   "display_name": "myenv2",
   "language": "python",
   "name": "myenv2"
  },
  "language_info": {
   "codemirror_mode": {
    "name": "ipython",
    "version": 3
   },
   "file_extension": ".py",
   "mimetype": "text/x-python",
   "name": "python",
   "nbconvert_exporter": "python",
   "pygments_lexer": "ipython3",
   "version": "3.7.12"
  }
 },
 "nbformat": 4,
 "nbformat_minor": 5
}
