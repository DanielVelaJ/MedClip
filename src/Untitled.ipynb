{
 "cells": [
  {
   "cell_type": "code",
   "execution_count": 1,
   "id": "495785a9-4ca1-41f6-927b-6f6da12a040a",
   "metadata": {},
   "outputs": [],
   "source": [
    "from models.model_utils import load_captioning_model\n",
    "from preprocess.pipelinesV2 import build_pipeline, build_coco_pipeline\n",
    "import tensorflow as tf\n",
    "import re\n",
    "import numpy as np\n",
    "import matplotlib.pyplot as plt\n",
    "import time\n",
    "import datetime\n",
    "import textwrap\n",
    "import json\n",
    "import pandas as pd\n",
    "import os\n",
    "import pickle\n",
    "# Tokenizers\n",
    "from tokenizers.tokenizers import KerasTokenizer\n",
    "# Model\n",
    "from models.CaptioningTransformer import CaptioningTransformer\n",
    "from models.Callbacks import CaptioningCallback\n",
    "# Results\n",
    "from results.CaptioningFunctions import predict_caption, caption_dataset"
   ]
  },
  {
   "cell_type": "code",
   "execution_count": 2,
   "id": "72427d0e-4811-43f4-a2b1-f94ca7e5a87e",
   "metadata": {},
   "outputs": [
    {
     "name": "stderr",
     "output_type": "stream",
     "text": [
      "2023-01-26 06:08:36.012916: E tensorflow/stream_executor/cuda/cuda_driver.cc:271] failed call to cuInit: CUDA_ERROR_NO_DEVICE: no CUDA-capable device is detected\n",
      "2023-01-26 06:08:36.013017: I tensorflow/stream_executor/cuda/cuda_diagnostics.cc:156] kernel driver does not appear to be running on this host (tensorflow-2-8-20221025-075908): /proc/driver/nvidia/version does not exist\n",
      "2023-01-26 06:08:36.036765: I tensorflow/core/platform/cpu_feature_guard.cc:151] This TensorFlow binary is optimized with oneAPI Deep Neural Network Library (oneDNN) to use the following CPU instructions in performance-critical operations:  AVX2 FMA\n",
      "To enable them in other operations, rebuild TensorFlow with the appropriate compiler flags.\n"
     ]
    },
    {
     "name": "stdout",
     "output_type": "stream",
     "text": [
      "1/1 [==============================] - 8s 8s/step - loss: 28.1846 - acc: 0.0011\n"
     ]
    },
    {
     "data": {
      "text/plain": [
       "<tensorflow.python.training.tracking.util.CheckpointLoadStatus at 0x7fd4018e2310>"
      ]
     },
     "execution_count": 2,
     "metadata": {},
     "output_type": "execute_result"
    }
   ],
   "source": [
    "model_name='20230126-060147'\n",
    "\n",
    "config_path='../model_configs/'+model_name+'.config'\n",
    "with open(config_path, 'rb') as fp:\n",
    "    config = pickle.load(fp)\n",
    "\n",
    "\n",
    "# Instantiate a model \n",
    "model=CaptioningTransformer(config)\n",
    "\n",
    "# Obtain some training data\n",
    "if config['img_backbone']=='efficientnetb0':\n",
    "    img=np.random.randint(0,\n",
    "                          256,\n",
    "                          (1,*config['img_size']))\n",
    "tokens=np.random.randint(0,\n",
    "                         config['vocab_size'],\n",
    "                         (1,config['capts_per_img'],config['seq_len']))\n",
    "inputs=tf.data.Dataset.from_tensor_slices({'image':img,'tokens':tokens})\n",
    "\n",
    "# Train the model for a single batch\n",
    "loss=tf.keras.losses.SparseCategoricalCrossentropy(reduction='none',from_logits=False)\n",
    "opt = tf.keras.optimizers.Adam()\n",
    "model.compile(loss=loss, optimizer=opt, run_eagerly=True)\n",
    "model.fit(inputs.batch(1))\n",
    "\n",
    "# Load weights into model\n",
    "model.load_weights('../models/'+model_name) "
   ]
  }
 ],
 "metadata": {
  "environment": {
   "kernel": "python3",
   "name": "tf2-gpu.2-8.m98",
   "type": "gcloud",
   "uri": "gcr.io/deeplearning-platform-release/tf2-gpu.2-8:m98"
  },
  "kernelspec": {
   "display_name": "Python 3",
   "language": "python",
   "name": "python3"
  },
  "language_info": {
   "codemirror_mode": {
    "name": "ipython",
    "version": 3
   },
   "file_extension": ".py",
   "mimetype": "text/x-python",
   "name": "python",
   "nbconvert_exporter": "python",
   "pygments_lexer": "ipython3",
   "version": "3.7.12"
  }
 },
 "nbformat": 4,
 "nbformat_minor": 5
}
