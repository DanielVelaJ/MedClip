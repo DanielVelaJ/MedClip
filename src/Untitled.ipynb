{
 "cells": [
  {
   "cell_type": "markdown",
   "id": "a7070824-6696-4c47-a695-728ad70665e6",
   "metadata": {
    "tags": []
   },
   "source": [
    "# Mask debugging"
   ]
  },
  {
   "cell_type": "code",
   "execution_count": 1,
   "id": "a53bdc4d-6bc8-48bf-a7d6-53dd1856ca31",
   "metadata": {},
   "outputs": [],
   "source": [
    "# %load_ext autoreload\n",
    "# %autoreload 2\n",
    "# from pipelines import build_pipeline, build_coco_pipeline\n",
    "# import tensorflow as tf\n",
    "# import re\n",
    "# import numpy as np\n",
    "# import matplotlib.pyplot as plt\n",
    "# import time\n",
    "# import datetime\n",
    "# import textwrap\n",
    "# import json\n",
    "# import pandas as pd\n",
    "# import os\n",
    "# import pickle\n",
    "# # Tokenizers\n",
    "# from tokenizers import KerasTokenizer\n",
    "# # Model\n",
    "# from models.CaptioningTransformers import CaptioningTransformer\n",
    "# from models.Callbacks import CaptioningCallback\n",
    "# from models.model_utils import load_captioning_model\n",
    "# # Results\n",
    "# from prediction import Predict\n",
    "# from tqdm import tqdm\n",
    "# from evaluation import Evaluate\n",
    "# from models.OldCaptioningTransformer import instantiate_captioner\n",
    "# import seaborn as sns"
   ]
  },
  {
   "cell_type": "code",
   "execution_count": 2,
   "id": "82ecfb62-779e-4748-8bf0-f56af6423c9e",
   "metadata": {},
   "outputs": [
    {
     "name": "stderr",
     "output_type": "stream",
     "text": [
      "/home/jupyter/MedClip/venv/lib/python3.7/site-packages/tqdm/auto.py:22: TqdmWarning: IProgress not found. Please update jupyter and ipywidgets. See https://ipywidgets.readthedocs.io/en/stable/user_install.html\n",
      "  from .autonotebook import tqdm as notebook_tqdm\n"
     ]
    },
    {
     "name": "stdout",
     "output_type": "stream",
     "text": [
      "Running experiment with the following configuration:\n",
      "{'name': 'model_big', 'dataset': 'medpix', 'model_name': 'exp_3', 'seq_len': 178, 'num_heads': 8, 'model_dim': 512, 'dropout': 0.2, 'img_backbone_trainable': False, 'img_size': (299, 299, 3), 'img_backbone': 'efficientnetb0', 'intermediate_size': 2048, 'vocab_size': None, 'capts_per_img': 1, 'num_encoder_blocks': 6, 'num_decoder_blocks': 6, 'max_epochs': 2, 'learning_rate': 0.001, 'normalization': 'pre', 'metric': 'val_acc'}\n",
      "Loading data pipeline...\n"
     ]
    },
    {
     "name": "stderr",
     "output_type": "stream",
     "text": [
      "2023-02-08 21:08:57.359928: I tensorflow/stream_executor/cuda/cuda_gpu_executor.cc:936] successful NUMA node read from SysFS had negative value (-1), but there must be at least one NUMA node, so returning NUMA node zero\n",
      "2023-02-08 21:08:57.371179: I tensorflow/stream_executor/cuda/cuda_gpu_executor.cc:936] successful NUMA node read from SysFS had negative value (-1), but there must be at least one NUMA node, so returning NUMA node zero\n",
      "2023-02-08 21:08:57.372975: I tensorflow/stream_executor/cuda/cuda_gpu_executor.cc:936] successful NUMA node read from SysFS had negative value (-1), but there must be at least one NUMA node, so returning NUMA node zero\n",
      "2023-02-08 21:08:57.375356: I tensorflow/core/platform/cpu_feature_guard.cc:151] This TensorFlow binary is optimized with oneAPI Deep Neural Network Library (oneDNN) to use the following CPU instructions in performance-critical operations:  AVX2 FMA\n",
      "To enable them in other operations, rebuild TensorFlow with the appropriate compiler flags.\n",
      "2023-02-08 21:08:57.375875: I tensorflow/stream_executor/cuda/cuda_gpu_executor.cc:936] successful NUMA node read from SysFS had negative value (-1), but there must be at least one NUMA node, so returning NUMA node zero\n",
      "2023-02-08 21:08:57.377659: I tensorflow/stream_executor/cuda/cuda_gpu_executor.cc:936] successful NUMA node read from SysFS had negative value (-1), but there must be at least one NUMA node, so returning NUMA node zero\n",
      "2023-02-08 21:08:57.379338: I tensorflow/stream_executor/cuda/cuda_gpu_executor.cc:936] successful NUMA node read from SysFS had negative value (-1), but there must be at least one NUMA node, so returning NUMA node zero\n",
      "2023-02-08 21:08:58.062675: I tensorflow/stream_executor/cuda/cuda_gpu_executor.cc:936] successful NUMA node read from SysFS had negative value (-1), but there must be at least one NUMA node, so returning NUMA node zero\n",
      "2023-02-08 21:08:58.064614: I tensorflow/stream_executor/cuda/cuda_gpu_executor.cc:936] successful NUMA node read from SysFS had negative value (-1), but there must be at least one NUMA node, so returning NUMA node zero\n",
      "2023-02-08 21:08:58.066212: I tensorflow/stream_executor/cuda/cuda_gpu_executor.cc:936] successful NUMA node read from SysFS had negative value (-1), but there must be at least one NUMA node, so returning NUMA node zero\n",
      "2023-02-08 21:08:58.067669: I tensorflow/core/common_runtime/gpu/gpu_device.cc:1525] Created device /job:localhost/replica:0/task:0/device:GPU:0 with 13598 MB memory:  -> device: 0, name: Tesla T4, pci bus id: 0000:00:04.0, compute capability: 7.5\n"
     ]
    },
    {
     "name": "stdout",
     "output_type": "stream",
     "text": [
      "Initializing tokenizer...\n",
      "Tokenizing data...\n",
      "Instantiating callbacks...\n",
      "Creatng and training model...\n",
      "Epoch 1/2\n"
     ]
    },
    {
     "name": "stderr",
     "output_type": "stream",
     "text": [
      "2023-02-08 21:09:23.827869: I tensorflow/stream_executor/cuda/cuda_dnn.cc:368] Loaded cuDNN version 8200\n"
     ]
    },
    {
     "name": "stdout",
     "output_type": "stream",
     "text": [
      "1/1 [==============================] - 58s 58s/step - loss: 9.3593 - acc: 0.0000e+00 - val_loss: 8.5043 - val_acc: 0.1007\n",
      "Epoch 2/2\n",
      "1/1 [==============================] - 29s 29s/step - loss: 8.3113 - acc: 0.1084 - val_loss: 8.1157 - val_acc: 0.2285\n",
      "Plotting learning curves...\n",
      "Making predictions...\n"
     ]
    },
    {
     "name": "stderr",
     "output_type": "stream",
     "text": [
      "100%|██████████| 1/1 [00:02<00:00,  2.47s/it]\n"
     ]
    },
    {
     "name": "stdout",
     "output_type": "stream",
     "text": [
      "Evaluating...\n",
      "Clearing GPU memory\n",
      "Running experiment with the following configuration:\n",
      "{'name': 'model_mid', 'dataset': 'medpix', 'model_name': 'exp_3', 'seq_len': 178, 'num_heads': 4, 'model_dim': 256, 'dropout': 0.2, 'img_backbone_trainable': False, 'img_size': (299, 299, 3), 'img_backbone': 'efficientnetb0', 'intermediate_size': 1024, 'vocab_size': None, 'capts_per_img': 1, 'num_encoder_blocks': 3, 'num_decoder_blocks': 3, 'max_epochs': 2, 'learning_rate': 0.001, 'normalization': 'pre', 'metric': 'val_acc'}\n",
      "Loading data pipeline...\n"
     ]
    },
    {
     "name": "stderr",
     "output_type": "stream",
     "text": [
      "2023-02-08 21:10:40.437771: I tensorflow/stream_executor/cuda/cuda_gpu_executor.cc:936] successful NUMA node read from SysFS had negative value (-1), but there must be at least one NUMA node, so returning NUMA node zero\n",
      "2023-02-08 21:10:40.449795: I tensorflow/stream_executor/cuda/cuda_gpu_executor.cc:936] successful NUMA node read from SysFS had negative value (-1), but there must be at least one NUMA node, so returning NUMA node zero\n",
      "2023-02-08 21:10:40.451588: I tensorflow/stream_executor/cuda/cuda_gpu_executor.cc:936] successful NUMA node read from SysFS had negative value (-1), but there must be at least one NUMA node, so returning NUMA node zero\n",
      "2023-02-08 21:10:40.454071: I tensorflow/core/platform/cpu_feature_guard.cc:151] This TensorFlow binary is optimized with oneAPI Deep Neural Network Library (oneDNN) to use the following CPU instructions in performance-critical operations:  AVX2 FMA\n",
      "To enable them in other operations, rebuild TensorFlow with the appropriate compiler flags.\n",
      "2023-02-08 21:10:40.454570: I tensorflow/stream_executor/cuda/cuda_gpu_executor.cc:936] successful NUMA node read from SysFS had negative value (-1), but there must be at least one NUMA node, so returning NUMA node zero\n",
      "2023-02-08 21:10:40.456424: I tensorflow/stream_executor/cuda/cuda_gpu_executor.cc:936] successful NUMA node read from SysFS had negative value (-1), but there must be at least one NUMA node, so returning NUMA node zero\n",
      "2023-02-08 21:10:40.458169: I tensorflow/stream_executor/cuda/cuda_gpu_executor.cc:936] successful NUMA node read from SysFS had negative value (-1), but there must be at least one NUMA node, so returning NUMA node zero\n",
      "2023-02-08 21:10:41.142277: I tensorflow/stream_executor/cuda/cuda_gpu_executor.cc:936] successful NUMA node read from SysFS had negative value (-1), but there must be at least one NUMA node, so returning NUMA node zero\n",
      "2023-02-08 21:10:41.144275: I tensorflow/stream_executor/cuda/cuda_gpu_executor.cc:936] successful NUMA node read from SysFS had negative value (-1), but there must be at least one NUMA node, so returning NUMA node zero\n",
      "2023-02-08 21:10:41.145961: I tensorflow/stream_executor/cuda/cuda_gpu_executor.cc:936] successful NUMA node read from SysFS had negative value (-1), but there must be at least one NUMA node, so returning NUMA node zero\n",
      "2023-02-08 21:10:41.147505: I tensorflow/core/common_runtime/gpu/gpu_device.cc:1525] Created device /job:localhost/replica:0/task:0/device:GPU:0 with 13598 MB memory:  -> device: 0, name: Tesla T4, pci bus id: 0000:00:04.0, compute capability: 7.5\n"
     ]
    },
    {
     "name": "stdout",
     "output_type": "stream",
     "text": [
      "Initializing tokenizer...\n",
      "Tokenizing data...\n",
      "Instantiating callbacks...\n",
      "Creatng and training model...\n",
      "Epoch 1/2\n"
     ]
    },
    {
     "name": "stderr",
     "output_type": "stream",
     "text": [
      "2023-02-08 21:11:00.706206: I tensorflow/stream_executor/cuda/cuda_dnn.cc:368] Loaded cuDNN version 8200\n"
     ]
    },
    {
     "name": "stdout",
     "output_type": "stream",
     "text": [
      "1/1 [==============================] - 24s 24s/step - loss: 9.3220 - acc: 0.0000e+00 - val_loss: 8.8805 - val_acc: 0.1638\n",
      "Epoch 2/2\n",
      "1/1 [==============================] - 4s 4s/step - loss: 8.7209 - acc: 0.1981 - val_loss: 8.6001 - val_acc: 0.2211\n",
      "Plotting learning curves...\n",
      "Making predictions...\n"
     ]
    },
    {
     "name": "stderr",
     "output_type": "stream",
     "text": [
      "100%|██████████| 1/1 [00:01<00:00,  1.36s/it]\n"
     ]
    },
    {
     "name": "stdout",
     "output_type": "stream",
     "text": [
      "Evaluating...\n",
      "Clearing GPU memory\n",
      "Running experiment with the following configuration:\n",
      "{'name': 'model_small', 'dataset': 'medpix', 'model_name': 'exp_3', 'seq_len': 178, 'num_heads': 1, 'model_dim': 128, 'dropout': 0.2, 'img_backbone_trainable': False, 'img_size': (299, 299, 3), 'img_backbone': 'efficientnetb0', 'intermediate_size': 512, 'vocab_size': None, 'capts_per_img': 1, 'num_encoder_blocks': 1, 'num_decoder_blocks': 1, 'max_epochs': 2, 'learning_rate': 0.001, 'normalization': 'pre', 'metric': 'val_acc'}\n",
      "Loading data pipeline...\n"
     ]
    },
    {
     "name": "stderr",
     "output_type": "stream",
     "text": [
      "2023-02-08 21:11:21.731547: I tensorflow/stream_executor/cuda/cuda_gpu_executor.cc:936] successful NUMA node read from SysFS had negative value (-1), but there must be at least one NUMA node, so returning NUMA node zero\n",
      "2023-02-08 21:11:21.742689: I tensorflow/stream_executor/cuda/cuda_gpu_executor.cc:936] successful NUMA node read from SysFS had negative value (-1), but there must be at least one NUMA node, so returning NUMA node zero\n",
      "2023-02-08 21:11:21.744466: I tensorflow/stream_executor/cuda/cuda_gpu_executor.cc:936] successful NUMA node read from SysFS had negative value (-1), but there must be at least one NUMA node, so returning NUMA node zero\n",
      "2023-02-08 21:11:21.747072: I tensorflow/core/platform/cpu_feature_guard.cc:151] This TensorFlow binary is optimized with oneAPI Deep Neural Network Library (oneDNN) to use the following CPU instructions in performance-critical operations:  AVX2 FMA\n",
      "To enable them in other operations, rebuild TensorFlow with the appropriate compiler flags.\n",
      "2023-02-08 21:11:21.747558: I tensorflow/stream_executor/cuda/cuda_gpu_executor.cc:936] successful NUMA node read from SysFS had negative value (-1), but there must be at least one NUMA node, so returning NUMA node zero\n",
      "2023-02-08 21:11:21.749383: I tensorflow/stream_executor/cuda/cuda_gpu_executor.cc:936] successful NUMA node read from SysFS had negative value (-1), but there must be at least one NUMA node, so returning NUMA node zero\n",
      "2023-02-08 21:11:21.751093: I tensorflow/stream_executor/cuda/cuda_gpu_executor.cc:936] successful NUMA node read from SysFS had negative value (-1), but there must be at least one NUMA node, so returning NUMA node zero\n",
      "2023-02-08 21:11:22.437209: I tensorflow/stream_executor/cuda/cuda_gpu_executor.cc:936] successful NUMA node read from SysFS had negative value (-1), but there must be at least one NUMA node, so returning NUMA node zero\n",
      "2023-02-08 21:11:22.439227: I tensorflow/stream_executor/cuda/cuda_gpu_executor.cc:936] successful NUMA node read from SysFS had negative value (-1), but there must be at least one NUMA node, so returning NUMA node zero\n",
      "2023-02-08 21:11:22.440857: I tensorflow/stream_executor/cuda/cuda_gpu_executor.cc:936] successful NUMA node read from SysFS had negative value (-1), but there must be at least one NUMA node, so returning NUMA node zero\n",
      "2023-02-08 21:11:22.442377: I tensorflow/core/common_runtime/gpu/gpu_device.cc:1525] Created device /job:localhost/replica:0/task:0/device:GPU:0 with 13598 MB memory:  -> device: 0, name: Tesla T4, pci bus id: 0000:00:04.0, compute capability: 7.5\n"
     ]
    },
    {
     "name": "stdout",
     "output_type": "stream",
     "text": [
      "Initializing tokenizer...\n",
      "Tokenizing data...\n",
      "Instantiating callbacks...\n",
      "Creatng and training model...\n",
      "Epoch 1/2\n"
     ]
    },
    {
     "name": "stderr",
     "output_type": "stream",
     "text": [
      "2023-02-08 21:11:35.848502: I tensorflow/stream_executor/cuda/cuda_dnn.cc:368] Loaded cuDNN version 8200\n"
     ]
    },
    {
     "name": "stdout",
     "output_type": "stream",
     "text": [
      "1/1 [==============================] - 15s 15s/step - loss: 9.3072 - acc: 0.0000e+00 - val_loss: 9.1460 - val_acc: 0.0819\n",
      "Epoch 2/2\n",
      "1/1 [==============================] - 2s 2s/step - loss: 9.0627 - acc: 0.1068 - val_loss: 9.0013 - val_acc: 0.1589\n",
      "Plotting learning curves...\n",
      "Making predictions...\n"
     ]
    },
    {
     "name": "stderr",
     "output_type": "stream",
     "text": [
      "100%|██████████| 1/1 [00:01<00:00,  1.39s/it]\n"
     ]
    },
    {
     "name": "stdout",
     "output_type": "stream",
     "text": [
      "Evaluating...\n",
      "Clearing GPU memory\n"
     ]
    }
   ],
   "source": [
    "from experiment import Experiment, AblationStudy, ExperimentCluster\n",
    "config_1={\n",
    "    'name':'model_big',\n",
    "    'dataset':'medpix',\n",
    "    'model_name':'exp_3',\n",
    "    'seq_len':178,\n",
    "    'num_heads':8,\n",
    "    'model_dim':512,\n",
    "    'dropout':0.2,\n",
    "    'img_backbone_trainable':False,\n",
    "    'img_size':(299,299,3),\n",
    "    'img_backbone':'efficientnetb0',\n",
    "    'intermediate_size':512*4,\n",
    "    'vocab_size':None,\n",
    "    'capts_per_img':1,\n",
    "    'num_encoder_blocks':6,\n",
    "    'num_decoder_blocks':6,\n",
    "    'max_epochs':2,\n",
    "    'learning_rate':0.001,\n",
    "    'normalization':'pre',\n",
    "    'metric':'val_acc'\n",
    "}\n",
    "\n",
    "config_2={\n",
    "    'name':'model_mid',\n",
    "    'dataset':'medpix',\n",
    "    'model_name':'exp_3',\n",
    "    'seq_len':178,\n",
    "    'num_heads':4,\n",
    "    'model_dim':256,\n",
    "    'dropout':0.2,\n",
    "    'img_backbone_trainable':False,\n",
    "    'img_size':(299,299,3),\n",
    "    'img_backbone':'efficientnetb0',\n",
    "    'intermediate_size':256*4,\n",
    "    'vocab_size':None,\n",
    "    'capts_per_img':1,\n",
    "    'num_encoder_blocks':3,\n",
    "    'num_decoder_blocks':3,\n",
    "    'max_epochs':2,\n",
    "    'learning_rate':0.001,\n",
    "    'normalization':'pre',\n",
    "    'metric':'val_acc'\n",
    "}\n",
    "\n",
    "\n",
    "config_3={\n",
    "    'name':'model_small',\n",
    "    'dataset':'medpix',\n",
    "    'model_name':'exp_3',\n",
    "    'seq_len':178,\n",
    "    'num_heads':1,\n",
    "    'model_dim':128,\n",
    "    'dropout':0.2,\n",
    "    'img_backbone_trainable':False,\n",
    "    'img_size':(299,299,3),\n",
    "    'img_backbone':'efficientnetb0',\n",
    "    'intermediate_size':128*4,\n",
    "    'vocab_size':None,\n",
    "    'capts_per_img':1,\n",
    "    'num_encoder_blocks':1,\n",
    "    'num_decoder_blocks':1,\n",
    "    'max_epochs':2,\n",
    "    'learning_rate':0.001,\n",
    "    'normalization':'pre',\n",
    "    'metric':'val_acc'\n",
    "}\n",
    "\n",
    "configs=[config_1,config_2,config_3]\n",
    "experiment_cluster=ExperimentCluster(configs,'../models/cluster_1')\n",
    "experiment_cluster.run()\n"
   ]
  },
  {
   "cell_type": "code",
   "execution_count": 3,
   "id": "0267aeaa-41d3-41fe-ac9c-6ef63177450f",
   "metadata": {},
   "outputs": [
    {
     "data": {
      "text/plain": [
       "{'name': ['model_big', 'model_mid', 'model_small'],\n",
       " 'dataset': ['medpix', 'medpix', 'medpix'],\n",
       " 'model_name': ['exp_3', 'exp_3', 'exp_3'],\n",
       " 'seq_len': [178, 178, 178],\n",
       " 'num_heads': [8, 4, 1],\n",
       " 'model_dim': [512, 256, 128],\n",
       " 'dropout': [0.2, 0.2, 0.2],\n",
       " 'img_backbone_trainable': [False, False, False],\n",
       " 'img_size': [(299, 299, 3), (299, 299, 3), (299, 299, 3)],\n",
       " 'img_backbone': ['efficientnetb0', 'efficientnetb0', 'efficientnetb0'],\n",
       " 'intermediate_size': [2048, 1024, 512],\n",
       " 'vocab_size': [11099, 11099, 11099],\n",
       " 'capts_per_img': [1, 1, 1],\n",
       " 'num_encoder_blocks': [6, 3, 1],\n",
       " 'num_decoder_blocks': [6, 3, 1],\n",
       " 'max_epochs': [2, 2, 2],\n",
       " 'learning_rate': [0.001, 0.001, 0.001],\n",
       " 'normalization': ['pre', 'pre', 'pre'],\n",
       " 'metric': ['val_acc', 'val_acc', 'val_acc'],\n",
       " 'core_modality_f1_w': [0.0, 0.0, 0.0],\n",
       " 'plane_f1_w': [0.0, 0.0, 0.0],\n",
       " 'anatomy_f1_w': [1.0, 0.0, 0.0],\n",
       " 'bleu': [9.176834880063286, 1.5401555084618097, 3.3747902377517707],\n",
       " 'mp1': [100.0, 100.0, 60.0],\n",
       " 'mp2': [90.0, 83.33333333333333, 44.44444444444444],\n",
       " 'mp3': [77.77777777777777, 80.0, 37.5],\n",
       " 'mp4': [62.5, 75.0, 28.571428571428573],\n",
       " 'bp': [0.11283618731705691, 0.01831563888873418, 0.0820849986238988],\n",
       " 'rouge1_f_low': [0.4117647058823529,\n",
       "  0.25806451612903225,\n",
       "  0.17647058823529413],\n",
       " 'rouge1_f_mid': [0.4117647058823529,\n",
       "  0.25806451612903225,\n",
       "  0.17647058823529413],\n",
       " 'rouge1_f_high': [0.4117647058823529,\n",
       "  0.25806451612903225,\n",
       "  0.17647058823529413],\n",
       " 'rouge2_f_low': [0.3125, 0.20689655172413793, 0.125],\n",
       " 'rouge2_f_mid': [0.3125, 0.20689655172413793, 0.125],\n",
       " 'rouge2_f_high': [0.3125, 0.20689655172413793, 0.125],\n",
       " 'rougeL_f_low': [0.4117647058823529,\n",
       "  0.25806451612903225,\n",
       "  0.17647058823529413],\n",
       " 'rougeL_f_mid': [0.4117647058823529,\n",
       "  0.25806451612903225,\n",
       "  0.17647058823529413],\n",
       " 'rougeL_f_high': [0.4117647058823529,\n",
       "  0.25806451612903225,\n",
       "  0.17647058823529413]}"
      ]
     },
     "execution_count": 3,
     "metadata": {},
     "output_type": "execute_result"
    }
   ],
   "source": [
    "experiment_cluster.results"
   ]
  }
 ],
 "metadata": {
  "environment": {
   "kernel": "myenv",
   "name": "tf2-gpu.2-8.m102",
   "type": "gcloud",
   "uri": "gcr.io/deeplearning-platform-release/tf2-gpu.2-8:m102"
  },
  "kernelspec": {
   "display_name": "myenv",
   "language": "python",
   "name": "myenv"
  },
  "language_info": {
   "codemirror_mode": {
    "name": "ipython",
    "version": 3
   },
   "file_extension": ".py",
   "mimetype": "text/x-python",
   "name": "python",
   "nbconvert_exporter": "python",
   "pygments_lexer": "ipython3",
   "version": "3.7.12"
  }
 },
 "nbformat": 4,
 "nbformat_minor": 5
}
