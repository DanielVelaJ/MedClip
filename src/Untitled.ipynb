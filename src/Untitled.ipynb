{
 "cells": [
  {
   "cell_type": "code",
   "execution_count": 1,
   "id": "873e25ba-b926-4408-bee9-9624cf28b421",
   "metadata": {},
   "outputs": [
    {
     "name": "stderr",
     "output_type": "stream",
     "text": [
      "/home/jupyter/MedClip/venv/lib/python3.7/site-packages/tqdm/auto.py:22: TqdmWarning: IProgress not found. Please update jupyter and ipywidgets. See https://ipywidgets.readthedocs.io/en/stable/user_install.html\n",
      "  from .autonotebook import tqdm as notebook_tqdm\n"
     ]
    }
   ],
   "source": [
    "import pandas as pd\n",
    "import tensorflow as tf\n",
    "import matplotlib.pyplot as plt\n",
    "import tensorflow_datasets as tfds\n",
    "import numpy as np"
   ]
  },
  {
   "cell_type": "code",
   "execution_count": 2,
   "id": "efacbd25-5701-4f4b-a71a-ea302ab6ab34",
   "metadata": {},
   "outputs": [
    {
     "name": "stderr",
     "output_type": "stream",
     "text": [
      "2023-03-01 05:19:55.197779: I tensorflow/stream_executor/cuda/cuda_gpu_executor.cc:936] successful NUMA node read from SysFS had negative value (-1), but there must be at least one NUMA node, so returning NUMA node zero\n",
      "2023-03-01 05:19:55.284103: I tensorflow/stream_executor/cuda/cuda_gpu_executor.cc:936] successful NUMA node read from SysFS had negative value (-1), but there must be at least one NUMA node, so returning NUMA node zero\n",
      "2023-03-01 05:19:55.285933: I tensorflow/stream_executor/cuda/cuda_gpu_executor.cc:936] successful NUMA node read from SysFS had negative value (-1), but there must be at least one NUMA node, so returning NUMA node zero\n",
      "2023-03-01 05:19:55.319541: I tensorflow/core/platform/cpu_feature_guard.cc:151] This TensorFlow binary is optimized with oneAPI Deep Neural Network Library (oneDNN) to use the following CPU instructions in performance-critical operations:  AVX2 FMA\n",
      "To enable them in other operations, rebuild TensorFlow with the appropriate compiler flags.\n",
      "2023-03-01 05:19:55.382014: I tensorflow/stream_executor/cuda/cuda_gpu_executor.cc:936] successful NUMA node read from SysFS had negative value (-1), but there must be at least one NUMA node, so returning NUMA node zero\n",
      "2023-03-01 05:19:55.383930: I tensorflow/stream_executor/cuda/cuda_gpu_executor.cc:936] successful NUMA node read from SysFS had negative value (-1), but there must be at least one NUMA node, so returning NUMA node zero\n",
      "2023-03-01 05:19:55.385711: I tensorflow/stream_executor/cuda/cuda_gpu_executor.cc:936] successful NUMA node read from SysFS had negative value (-1), but there must be at least one NUMA node, so returning NUMA node zero\n",
      "2023-03-01 05:20:04.854908: I tensorflow/stream_executor/cuda/cuda_gpu_executor.cc:936] successful NUMA node read from SysFS had negative value (-1), but there must be at least one NUMA node, so returning NUMA node zero\n",
      "2023-03-01 05:20:04.857066: I tensorflow/stream_executor/cuda/cuda_gpu_executor.cc:936] successful NUMA node read from SysFS had negative value (-1), but there must be at least one NUMA node, so returning NUMA node zero\n",
      "2023-03-01 05:20:04.858857: I tensorflow/stream_executor/cuda/cuda_gpu_executor.cc:936] successful NUMA node read from SysFS had negative value (-1), but there must be at least one NUMA node, so returning NUMA node zero\n",
      "2023-03-01 05:20:04.917961: I tensorflow/core/common_runtime/gpu/gpu_device.cc:1525] Created device /job:localhost/replica:0/task:0/device:GPU:0 with 13598 MB memory:  -> device: 0, name: Tesla T4, pci bus id: 0000:00:04.0, compute capability: 7.5\n"
     ]
    },
    {
     "data": {
      "text/plain": [
       "dict_keys(['captioning'])"
      ]
     },
     "execution_count": 2,
     "metadata": {},
     "output_type": "execute_result"
    }
   ],
   "source": [
    "from pipelines import build_pipeline\n",
    "pipeline=build_pipeline()\n",
    "pipeline.keys()"
   ]
  },
  {
   "cell_type": "code",
   "execution_count": 3,
   "id": "a8213b72-ef50-4b4d-91a7-305f8bab63d0",
   "metadata": {},
   "outputs": [
    {
     "ename": "NameError",
     "evalue": "name 'dict_keys' is not defined",
     "output_type": "error",
     "traceback": [
      "\u001b[0;31m---------------------------------------------------------------------------\u001b[0m",
      "\u001b[0;31mNameError\u001b[0m                                 Traceback (most recent call last)",
      "\u001b[0;32m/tmp/ipykernel_15948/2911424155.py\u001b[0m in \u001b[0;36m<module>\u001b[0;34m\u001b[0m\n\u001b[1;32m      1\u001b[0m \u001b[0mpipeline\u001b[0m\u001b[0;34m[\u001b[0m\u001b[0;34m'captioning'\u001b[0m\u001b[0;34m]\u001b[0m\u001b[0;34m.\u001b[0m\u001b[0mkeys\u001b[0m\u001b[0;34m(\u001b[0m\u001b[0;34m)\u001b[0m\u001b[0;34m\u001b[0m\u001b[0;34m\u001b[0m\u001b[0m\n\u001b[0;32m----> 2\u001b[0;31m \u001b[0mdict_keys\u001b[0m\u001b[0;34m(\u001b[0m\u001b[0;34m[\u001b[0m\u001b[0;34m'train'\u001b[0m\u001b[0;34m,\u001b[0m \u001b[0;34m'val'\u001b[0m\u001b[0;34m,\u001b[0m \u001b[0;34m'test'\u001b[0m\u001b[0;34m,\u001b[0m \u001b[0;34m'train_captions'\u001b[0m\u001b[0;34m]\u001b[0m\u001b[0;34m)\u001b[0m\u001b[0;34m\u001b[0m\u001b[0;34m\u001b[0m\u001b[0m\n\u001b[0m",
      "\u001b[0;31mNameError\u001b[0m: name 'dict_keys' is not defined"
     ]
    }
   ],
   "source": [
    "pipeline['captioning'].keys()\n",
    "dict_keys(['train', 'val', 'test', 'train_captions'])"
   ]
  },
  {
   "cell_type": "code",
   "execution_count": null,
   "id": "fe830962-5ddc-4711-9282-0d376659dca2",
   "metadata": {},
   "outputs": [],
   "source": [
    "import download as dl"
   ]
  },
  {
   "cell_type": "code",
   "execution_count": null,
   "id": "0548819d-b2df-43a1-a4b7-3a845dcacffc",
   "metadata": {},
   "outputs": [],
   "source": [
    "dl.medpix()"
   ]
  },
  {
   "cell_type": "code",
   "execution_count": null,
   "id": "c73de8fd-756b-49eb-bc51-16ad36a24373",
   "metadata": {},
   "outputs": [],
   "source": [
    "df_subset=pd.read_csv('../data/intermediate/inter_medpix.csv')"
   ]
  },
  {
   "cell_type": "code",
   "execution_count": null,
   "id": "d9bf679c-f4b4-46ca-9b8f-a4a4c0b3b8b9",
   "metadata": {},
   "outputs": [],
   "source": [
    "def decode_and_resize(img_path,image_size):\n",
    "    \"\"\"Recieves an image path, decodes and rescales it. \"\"\"\n",
    "    img = tf.io.read_file(img_path)\n",
    "    img = tf.image.decode_jpeg(img, channels=3)\n",
    "    img = tf.image.resize(img, image_size)\n",
    "    img = tf.image.convert_image_dtype(img, tf.float32)\n",
    "    return img\n",
    "\n",
    "def to_dict(image, text):\n",
    "    \"\"\" To be called on dataset.map to get a dictionary\"\"\"\n",
    "    return {'image': image, 'text': text}\n",
    "\n",
    "def build_tf_dataset(df_subset,image_size):\n",
    "    \"\"\"Build captioning tensorflow dataset from dataframe\n",
    "    \n",
    "    The captioning tensorflow dataset returns dictionaries\n",
    "    containing \"images\" and \"text\" keys.\n",
    "    \n",
    "    Args: \n",
    "        df_subset(pandas df): The dataframe from which to extract\n",
    "            imagepaths and captions. It must contain the columns\n",
    "            \"Full_Caption\" and \"Path\"\n",
    "    Returns\n",
    "        captioning_tf_dataset(tf dataset): Captioning tensorflow dataset. \n",
    "    \"\"\"\n",
    "    # Build images tf dataset\n",
    "    images_tf_dataset = (tf.data.Dataset.from_tensor_slices(df_subset['Path'])\n",
    "                            .map(lambda x: decode_and_resize(x,image_size),num_parallel_calls=tf.data.AUTOTUNE)\n",
    "                        )\n",
    "\n",
    "    # Build captions tf_dataset\n",
    "    captions_tf_dataset = (tf.data.Dataset\n",
    "                              .from_tensor_slices(df_subset['Full_Caption'].astype(str))\n",
    "                              .map(lambda x:tf.expand_dims(x,axis=0))\n",
    "                          )\n",
    "\n",
    "    # Zip df_subset images and captions datasets into a captioning dataset. \n",
    "    captioning_tf_dataset = tf.data.Dataset.zip(\n",
    "                                                    (images_tf_dataset, \n",
    "                                                     captions_tf_dataset)\n",
    "                                                  ).map(to_dict)\n",
    "    return captioning_tf_dataset\n"
   ]
  },
  {
   "cell_type": "code",
   "execution_count": null,
   "id": "e1199712-87b2-4514-adb3-a67203668653",
   "metadata": {},
   "outputs": [],
   "source": [
    "tf.data.Dataset.from_tensor_slices(df_subset['Path'])"
   ]
  },
  {
   "cell_type": "code",
   "execution_count": null,
   "id": "367361e6-c740-4fe2-82df-d0d11611efa9",
   "metadata": {},
   "outputs": [],
   "source": [
    "image_size=(299,299)\n",
    "images_tf_dataset = (tf.data.Dataset.from_tensor_slices(df_subset['Path'])\n",
    "                            .map(lambda x: decode_and_resize(x,image_size),num_parallel_calls=tf.data.AUTOTUNE)\n",
    "                        )\n",
    "captions_tf_dataset = (tf.data.Dataset\n",
    "                              .from_tensor_slices(df_subset['Full_Caption'].astype(str))\n",
    "                              .map(lambda x:tf.expand_dims(x,axis=0))\n",
    "                          )\n",
    "paths_tf_dataset = (tf.data.Dataset.from_tensor_slices(df_subset['Path']))\n",
    "                    \n",
    "captioning_tf_dataset = tf.data.Dataset.zip({'images':images_tf_dataset, \n",
    "                                             'text':captions_tf_dataset,\n",
    "                                             'paths':paths_tf_dataset})"
   ]
  },
  {
   "cell_type": "code",
   "execution_count": null,
   "id": "91f48ed1-4123-461e-b8aa-a3e61e289b00",
   "metadata": {},
   "outputs": [],
   "source": [
    "for i in captioning_tf_dataset.take(1):\n",
    "    print(i)"
   ]
  },
  {
   "cell_type": "code",
   "execution_count": null,
   "id": "c1cf821d-72b2-4d5b-9371-a5f62f90d31c",
   "metadata": {},
   "outputs": [],
   "source": [
    "dataset=tf.data.Dataset.from_tensor_slices({'images':images_tf_dataset,\n",
    "                                    'captions':captions_tf_dataset})"
   ]
  },
  {
   "cell_type": "code",
   "execution_count": null,
   "id": "fb54c47f-8b6b-4e8e-b734-8c13bc42a680",
   "metadata": {},
   "outputs": [],
   "source": [
    "\n",
    "\n",
    "wb = openpyxl.load_workbook('images.xlsx')\n",
    "ws = wb.get_sheet_by_name('Daniel1')\n",
    "ws.column_dimensions['H'].width = 50\n",
    "ws.row_dimensions['5'].height = 50\n",
    "img = openpyxl.drawing.image.Image('test-fig.png')\n",
    "img.anchor = 'H5'\n",
    "ws.add_image(img)\n",
    "wb.save('images.xlsx')\n"
   ]
  },
  {
   "cell_type": "code",
   "execution_count": null,
   "id": "36e96152-9263-4cb3-8cb7-329690cffebe",
   "metadata": {},
   "outputs": [],
   "source": [
    "build_pipeline()"
   ]
  },
  {
   "cell_type": "code",
   "execution_count": null,
   "id": "a53bdc4d-6bc8-48bf-a7d6-53dd1856ca31",
   "metadata": {},
   "outputs": [],
   "source": [
    "# %load_ext autoreload\n",
    "# %autoreload 2\n",
    "from pipelines import build_pipeline, build_coco_pipeline\n",
    "# import tensorflow as tf\n",
    "# import re\n",
    "# import numpy as np\n",
    "# import matplotlib.pyplot as plt\n",
    "# import time\n",
    "# import datetime\n",
    "# import textwrap\n",
    "# import json\n",
    "# import pandas as pd\n",
    "# import os\n",
    "# import pickle\n",
    "# # Tokenizers\n",
    "# from tokenizers import KerasTokenizer\n",
    "# # Model\n",
    "# from models.CaptioningTransformers import CaptioningTransformer\n",
    "# from models.Callbacks import CaptioningCallback\n",
    "# from models.model_utils import load_captioning_model\n",
    "# # Results\n",
    "# from prediction import Predict\n",
    "# from tqdm import tqdm\n",
    "# from evaluation import Evaluate\n",
    "# from models.OldCaptioningTransformer import instantiate_captioner\n",
    "# import seaborn as sns"
   ]
  },
  {
   "cell_type": "code",
   "execution_count": null,
   "id": "3d3b72eb-80a4-4a4d-983c-008657e0fac5",
   "metadata": {},
   "outputs": [],
   "source": []
  },
  {
   "cell_type": "code",
   "execution_count": null,
   "id": "82ecfb62-779e-4748-8bf0-f56af6423c9e",
   "metadata": {},
   "outputs": [],
   "source": [
    "# from experiment import Experiment, AblationStudy, ExperimentCluster\n",
    "# config_1={\n",
    "#     'name':'model_big',\n",
    "#     'dataset':'medpix',\n",
    "#     'model_name':'exp_3',\n",
    "#     'seq_len':178,\n",
    "#     'num_heads':8,\n",
    "#     'model_dim':512,\n",
    "#     'dropout':0.2,\n",
    "#     'img_backbone_trainable':False,\n",
    "#     'img_size':(299,299,3),\n",
    "#     'img_backbone':'efficientnetb0',\n",
    "#     'intermediate_size':512*4,\n",
    "#     'vocab_size':None,\n",
    "#     'capts_per_img':1,\n",
    "#     'num_encoder_blocks':6,\n",
    "#     'num_decoder_blocks':6,\n",
    "#     'max_epochs':2,\n",
    "#     'learning_rate':0.001,\n",
    "#     'normalization':'pre',\n",
    "#     'metric':'val_acc'\n",
    "# }\n",
    "\n",
    "# config_2={\n",
    "#     'name':'model_mid',\n",
    "#     'dataset':'medpix',\n",
    "#     'model_name':'exp_3',\n",
    "#     'seq_len':178,\n",
    "#     'num_heads':4,\n",
    "#     'model_dim':256,\n",
    "#     'dropout':0.2,\n",
    "#     'img_backbone_trainable':False,\n",
    "#     'img_size':(299,299,3),\n",
    "#     'img_backbone':'efficientnetb0',\n",
    "#     'intermediate_size':256*4,\n",
    "#     'vocab_size':None,\n",
    "#     'capts_per_img':1,\n",
    "#     'num_encoder_blocks':3,\n",
    "#     'num_decoder_blocks':3,\n",
    "#     'max_epochs':2,\n",
    "#     'learning_rate':0.001,\n",
    "#     'normalization':'pre',\n",
    "#     'metric':'val_acc'\n",
    "# }\n",
    "\n",
    "\n",
    "# config_3={\n",
    "#     'name':'model_small',\n",
    "#     'dataset':'medpix',\n",
    "#     'model_name':'exp_3',\n",
    "#     'seq_len':178,\n",
    "#     'num_heads':1,\n",
    "#     'model_dim':128,\n",
    "#     'dropout':0.2,\n",
    "#     'img_backbone_trainable':False,\n",
    "#     'img_size':(299,299,3),\n",
    "#     'img_backbone':'efficientnetb0',\n",
    "#     'intermediate_size':128*4,\n",
    "#     'vocab_size':None,\n",
    "#     'capts_per_img':1,\n",
    "#     'num_encoder_blocks':1,\n",
    "#     'num_decoder_blocks':1,\n",
    "#     'max_epochs':2,\n",
    "#     'learning_rate':0.001,\n",
    "#     'normalization':'pre',\n",
    "#     'metric':'val_acc'\n",
    "# }\n",
    "\n",
    "# configs=[config_1,config_2,config_3]\n",
    "# experiment_cluster=ExperimentCluster(configs,'../models/cluster_1')\n",
    "# experiment_cluster.run()\n"
   ]
  },
  {
   "cell_type": "code",
   "execution_count": null,
   "id": "0267aeaa-41d3-41fe-ac9c-6ef63177450f",
   "metadata": {},
   "outputs": [],
   "source": [
    "# experiment_cluster.results"
   ]
  },
  {
   "cell_type": "code",
   "execution_count": 4,
   "id": "147b600d-0b54-46e6-bac9-ce261c7b9845",
   "metadata": {},
   "outputs": [],
   "source": [
    "from evaluation import Evaluate"
   ]
  },
  {
   "cell_type": "code",
   "execution_count": 5,
   "id": "fbbf9d4b-47be-4324-ba7c-5753aab48fc6",
   "metadata": {},
   "outputs": [],
   "source": [
    "ev = Evaluate('../models/study_3_medpix_dividedcases/0')"
   ]
  },
  {
   "cell_type": "code",
   "execution_count": 6,
   "id": "a613e1f5-4939-4a00-8d95-f077c9f199fb",
   "metadata": {},
   "outputs": [],
   "source": [
    "ev.confusion_matrixes()"
   ]
  }
 ],
 "metadata": {
  "environment": {
   "kernel": "myenv",
   "name": "tf2-gpu.2-8.m102",
   "type": "gcloud",
   "uri": "gcr.io/deeplearning-platform-release/tf2-gpu.2-8:m102"
  },
  "kernelspec": {
   "display_name": "myenv",
   "language": "python",
   "name": "myenv"
  },
  "language_info": {
   "codemirror_mode": {
    "name": "ipython",
    "version": 3
   },
   "file_extension": ".py",
   "mimetype": "text/x-python",
   "name": "python",
   "nbconvert_exporter": "python",
   "pygments_lexer": "ipython3",
   "version": "3.7.12"
  }
 },
 "nbformat": 4,
 "nbformat_minor": 5
}
