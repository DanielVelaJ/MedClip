{
 "cells": [
  {
   "cell_type": "code",
   "execution_count": 1,
   "id": "a55d85fc-0091-4b63-a42e-5660857353b5",
   "metadata": {},
   "outputs": [
    {
     "name": "stderr",
     "output_type": "stream",
     "text": [
      "/home/jupyter/MedClip/src/venv/lib/python3.7/site-packages/tqdm/auto.py:22: TqdmWarning: IProgress not found. Please update jupyter and ipywidgets. See https://ipywidgets.readthedocs.io/en/stable/user_install.html\n",
      "  from .autonotebook import tqdm as notebook_tqdm\n"
     ]
    }
   ],
   "source": [
    "import pandas as pd\n",
    "import PIL\n",
    "from tqdm import tqdm\n",
    "from preprocess.pipelines import make_pipeline"
   ]
  },
  {
   "cell_type": "code",
   "execution_count": null,
   "id": "c565661a-4c2c-44dc-9b24-68fb3b65f771",
   "metadata": {},
   "outputs": [
    {
     "name": "stderr",
     "output_type": "stream",
     "text": [
      " 35%|███▍      | 131916/377110 [04:36<08:23, 487.00it/s]"
     ]
    }
   ],
   "source": [
    "def process_mimic(row): \n",
    "    \"\"\"Process a row in the cxr-record-list.csv dataframe to \n",
    "    include caption and complete path to jpg image. \n",
    "    \n",
    "    \n",
    "    \n",
    "    \n",
    "    \"\"\"\n",
    "    try:\n",
    "        text_path_prefix='../data/raw/physionet.org/files/mimic-cxr/2.0.0/'\n",
    "        image_path_prefix= '../data/raw/physionet.org/files/mimic-cxr-jpg/2.0.0/'\n",
    "        text_path_suffix=texts_df.loc[texts_df['study_id']==row['study_id']]['path'].iloc[0]\n",
    "\n",
    "        # Obtain the report ---------------------------\n",
    "        text_path=text_path_prefix+text_path_suffix\n",
    "        # Read report into string\n",
    "        text_file = open(text_path, \"r\")\n",
    "        #read whole file to a string\n",
    "        report = text_file.read()\n",
    "        #close file\n",
    "        text_file.close()\n",
    "        row['Full_Caption']='<start> '+ report+' <end>'\n",
    "\n",
    "        # get image path------------------------------\n",
    "        row['Path']=image_path_prefix+row['path'][0:-3]+'jpg'\n",
    " \n",
    "        return row[['dicom_id','Path','Full_Caption']]\n",
    "    except:\n",
    "        row['Full_Caption']='error'\n",
    "        row['Path']='error'\n",
    "        return row[['dicom_id','Path','Full_Caption']]\n",
    "\n",
    "images_df_path=\"../data/raw/physionet.org/files/mimic-cxr/2.0.0/cxr-record-list.csv\"\n",
    "texts_df_path=\"../data/raw/physionet.org/files/mimic-cxr/2.0.0/cxr-study-list.csv\"\n",
    "labels_df_path=\"../data/raw/physionet.org/files/mimic-cxr-jpg/2.0.0/mimic-cxr-2.0.0-chexpert.csv\"\n",
    "\n",
    "\n",
    "images_df=pd.read_csv(images_df_path)\n",
    "texts_df=pd.read_csv(texts_df_path)\n",
    "labels_df=pd.read_csv(labels_df_path)\n",
    "\n",
    "tqdm.pandas()\n",
    "df=images_df.progress_apply(process_mimic,axis=1)\n",
    "df.to_csv('../data/intermediate/mimic.csv')\n",
    "\n",
    "\n"
   ]
  },
  {
   "cell_type": "code",
   "execution_count": 3,
   "id": "324e913d-c24c-44f3-a859-07d63e879761",
   "metadata": {},
   "outputs": [
    {
     "name": "stdout",
     "output_type": "stream",
     "text": [
      "making input pipeline\n"
     ]
    }
   ],
   "source": [
    "pipeline=make_pipeline(inter_dataset_path='../data/intermediate/mimic.csv',\n",
    "                  image_size=(299, 299),downscale=True,\n",
    "                  shuffle=True,\n",
    "                  seed=1,fractions=[0.70,0.15,0.15])"
   ]
  }
 ],
 "metadata": {
  "environment": {
   "kernel": "myenv",
   "name": "tf2-gpu.2-8.m98",
   "type": "gcloud",
   "uri": "gcr.io/deeplearning-platform-release/tf2-gpu.2-8:m98"
  },
  "kernelspec": {
   "display_name": "myenv",
   "language": "python",
   "name": "myenv"
  },
  "language_info": {
   "codemirror_mode": {
    "name": "ipython",
    "version": 3
   },
   "file_extension": ".py",
   "mimetype": "text/x-python",
   "name": "python",
   "nbconvert_exporter": "python",
   "pygments_lexer": "ipython3",
   "version": "3.7.12"
  }
 },
 "nbformat": 4,
 "nbformat_minor": 5
}
